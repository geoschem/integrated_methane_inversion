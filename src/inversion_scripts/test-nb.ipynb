{
 "cells": [
  {
   "cell_type": "code",
   "execution_count": 19,
   "metadata": {},
   "outputs": [],
   "source": [
    "from jacobian import read_tropomi, filter_tropomi\n",
    "import datetime\n",
    "import numpy as np"
   ]
  },
  {
   "cell_type": "code",
   "execution_count": 4,
   "metadata": {},
   "outputs": [],
   "source": [
    "TROPOMI = read_tropomi(\"tropomi_data/S5P_OFFL_L2__CH4____20201215T065400_20201215T083530_16442_01_010400_20201217T002339.nc\")"
   ]
  },
  {
   "cell_type": "code",
   "execution_count": 23,
   "metadata": {},
   "outputs": [],
   "source": [
    "gc_startdate = np.datetime64(datetime.datetime.strptime(\"2020-12-14 00:00:00\", \"%Y-%m-%d %H:%M:%S\"))\n",
    "gc_enddate = np.datetime64(datetime.datetime.strptime(\"2020-12-16 00:00:00\", \"%Y-%m-%d %H:%M:%S\"))"
   ]
  },
  {
   "cell_type": "code",
   "execution_count": 39,
   "metadata": {},
   "outputs": [],
   "source": [
    "sat_ind = filterr_tropomi(TROPOMI, [-130, 70], [-45, 60], gc_startdate, gc_enddate)"
   ]
  },
  {
   "cell_type": "code",
   "execution_count": 45,
   "metadata": {},
   "outputs": [
    {
     "data": {
      "text/plain": [
       "1529"
      ]
     },
     "execution_count": 45,
     "metadata": {},
     "output_type": "execute_result"
    }
   ],
   "source": [
    "len(sat_ind[1])\n"
   ]
  },
  {
   "cell_type": "code",
   "execution_count": null,
   "metadata": {},
   "outputs": [],
   "source": []
  }
 ],
 "metadata": {
  "interpreter": {
   "hash": "d16a720606bbab7a45ca159fc831ffb6f48d5ea35b7a07a1b1afd6e3b6f85896"
  },
  "kernelspec": {
   "display_name": "Python 3.7.10 ('gcpy')",
   "language": "python",
   "name": "python3"
  },
  "language_info": {
   "codemirror_mode": {
    "name": "ipython",
    "version": 3
   },
   "file_extension": ".py",
   "mimetype": "text/x-python",
   "name": "python",
   "nbconvert_exporter": "python",
   "pygments_lexer": "ipython3",
   "version": "3.7.10"
  },
  "orig_nbformat": 4
 },
 "nbformat": 4,
 "nbformat_minor": 2
}
