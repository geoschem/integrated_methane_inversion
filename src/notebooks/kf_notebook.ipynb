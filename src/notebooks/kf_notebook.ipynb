{
 "cells": [
  {
   "cell_type": "code",
   "execution_count": null,
   "metadata": {},
   "outputs": [],
   "source": [
    "import os\n",
    "import yaml\n",
    "import datetime\n",
    "import numpy as np\n",
    "import pandas as pd\n",
    "import xarray as xr\n",
    "import colorcet as cc\n",
    "import cartopy.crs as ccrs\n",
    "import matplotlib\n",
    "import matplotlib.pyplot as plt\n",
    "import matplotlib.dates as mdates\n",
    "\n",
    "from period1.utils import (\n",
    "    plot_field,\n",
    "    sum_total_emissions,\n",
    "    plot_time_series,\n",
    "    get_posterior_emissions,\n",
    "    get_period_mean_emissions,\n",
    ")"
   ]
  },
  {
   "cell_type": "code",
   "execution_count": null,
   "metadata": {},
   "outputs": [],
   "source": [
    "def to_datetime_list(date_str_list):\n",
    "    \"\"\"\n",
    "    Convert a list of date strings to a list of datetime objects.\n",
    "    \"\"\"\n",
    "    return [\n",
    "        datetime.datetime.strptime(str(date_str), \"%Y%m%d\")\n",
    "        for date_str in date_str_list\n",
    "    ]"
   ]
  },
  {
   "cell_type": "code",
   "execution_count": null,
   "metadata": {},
   "outputs": [],
   "source": [
    "# Read the configuration file *update if not on aws*\n",
    "config = yaml.load(\n",
    "    open(\"/home/ubuntu/integrated_methane_inversion/config.yml\"), Loader=yaml.FullLoader\n",
    ")"
   ]
  },
  {
   "cell_type": "code",
   "execution_count": null,
   "metadata": {},
   "outputs": [],
   "source": [
    "# Open the state vector file\n",
    "state_vector_filepath = \"./../StateVector.nc\"\n",
    "state_vector = xr.load_dataset(state_vector_filepath)\n",
    "state_vector_labels = state_vector[\"StateVector\"]\n",
    "\n",
    "# Identify the last element of the region of interest\n",
    "last_ROI_element = int(\n",
    "    np.nanmax(state_vector_labels.values) - config[\"nBufferClusters\"]\n",
    ")\n",
    "\n",
    "# Define mask for region of interest\n",
    "mask = state_vector_labels <= last_ROI_element"
   ]
  },
  {
   "cell_type": "code",
   "execution_count": null,
   "metadata": {},
   "outputs": [],
   "source": [
    "# Paths to prior emissions, inversion results, GEOS/satellite data, posterior simulation\n",
    "# Get the current directory\n",
    "cwd = os.getcwd()\n",
    "\n",
    "\n",
    "def extract_number(s):\n",
    "    # This function extracts the last number from a string\n",
    "    # by splitting on non-digit characters and taking the last part\n",
    "    return int(\"\".join(filter(str.isdigit, s.split()[-1])))\n",
    "\n",
    "\n",
    "# Extract the start dates of each period\n",
    "periods_df = pd.read_csv(\"./../periods.csv\")\n",
    "start_dates = periods_df.iloc[:, 0].tolist()\n",
    "end_dates = periods_df.iloc[:, 1].tolist()\n",
    "num_periods = len(start_dates)\n",
    "inv_result_filename = (\n",
    "    \"inversion_result_ln.nc\" if config[\"LognormalErrors\"] else \"inversion_result.nc\"\n",
    ")\n",
    "gridded_posterior_filename = (\n",
    "    \"gridded_posterior_ln.nc\" if config[\"LognormalErrors\"] else \"gridded_posterior.nc\"\n",
    ")\n",
    "\n",
    "prior_cache_path = f\"./../hemco_prior_emis/OutputDir/\"\n",
    "results_prefixes = sorted(\n",
    "    [\n",
    "        f\"./{name}/\"\n",
    "        for name in os.listdir(cwd)\n",
    "        if os.path.isdir(os.path.join(cwd, name))\n",
    "    ],\n",
    "    key=extract_number,\n",
    ")\n",
    "results_paths = [prefix + gridded_posterior_filename for prefix in results_prefixes]\n",
    "satdat_dirs = [prefix + \"data_converted\" for prefix in results_prefixes]\n",
    "inversion_result_paths = [prefix + inv_result_filename for prefix in results_prefixes]\n",
    "posterior_dirs = [prefix + \"data_converted_posterior\" for prefix in results_prefixes]\n",
    "visualization_dirs = [prefix + \"data_visualization\" for prefix in results_prefixes]\n",
    "posterior_viz_dirs = [\n",
    "    prefix + \"data_visualization_posterior\" for prefix in results_prefixes\n",
    "]\n",
    "sf_paths = [\n",
    "    f\"./../archive_sf/posterior_sf_period{i}.nc\" for i in range(1, num_periods + 1)\n",
    "]"
   ]
  },
  {
   "cell_type": "code",
   "execution_count": null,
   "metadata": {},
   "outputs": [],
   "source": [
    "# Set latitude/longitude bounds for plots\n",
    "\n",
    "# Trim 1-2.5 degrees to remove GEOS-Chem buffer zone\n",
    "if config[\"Res\"] == \"0.25x0.3125\":\n",
    "    degx = 4 * 0.3125\n",
    "    degy = 4 * 0.25\n",
    "elif config[\"Res\"] == \"0.5x0.625\":\n",
    "    degx = 4 * 0.625\n",
    "    degy = 4 * 0.5\n",
    "elif config[\"Res\"] == \"2.0x2.5\":\n",
    "    degx = 4 * 2.5\n",
    "    degy = 4 * 2.0\n",
    "\n",
    "lon_bounds = [\n",
    "    np.min(state_vector.lon.values) + degx,\n",
    "    np.max(state_vector.lon.values) - degx,\n",
    "]\n",
    "lat_bounds = [\n",
    "    np.min(state_vector.lat.values) + degy,\n",
    "    np.max(state_vector.lat.values) - degy,\n",
    "]"
   ]
  },
  {
   "attachments": {},
   "cell_type": "markdown",
   "metadata": {},
   "source": [
    "# State Vector"
   ]
  },
  {
   "cell_type": "code",
   "execution_count": null,
   "metadata": {},
   "outputs": [],
   "source": [
    "fig = plt.figure(figsize=(8, 8))\n",
    "plt.rcParams.update({\"font.size\": 16})\n",
    "ax = fig.subplots(1, 1, subplot_kw={\"projection\": ccrs.PlateCarree()})\n",
    "num_colors = state_vector_labels.where(mask).max().item()\n",
    "sv_cmap = matplotlib.colors.ListedColormap(np.random.rand(int(num_colors), 3))\n",
    "plot_field(\n",
    "    ax,\n",
    "    state_vector_labels,\n",
    "    cmap=sv_cmap,\n",
    "    title=\"State vector elements\",\n",
    "    cbar_label=\"Element Id\",\n",
    ")"
   ]
  },
  {
   "attachments": {},
   "cell_type": "markdown",
   "metadata": {},
   "source": [
    "# Calculate emissions for each inversion interval"
   ]
  },
  {
   "cell_type": "code",
   "execution_count": null,
   "metadata": {},
   "outputs": [],
   "source": [
    "# Prior emissions\n",
    "priors_ds = [\n",
    "    get_period_mean_emissions(prior_cache_path, period + 1, \"./../periods.csv\")\n",
    "    for period in range(periods_df.shape[0])\n",
    "]\n",
    "priors = [prior[\"EmisCH4_Total\"] for prior in priors_ds]\n",
    "\n",
    "# Optimized scale factors\n",
    "scales = [xr.load_dataset(sf_path) for sf_path in sf_paths]\n",
    "\n",
    "# Posterior emissions\n",
    "posteriors_ds = [\n",
    "    get_posterior_emissions(priors_ds[i], scales[i]) for i in range(num_periods)\n",
    "]\n",
    "posteriors = [posterior[\"EmisCH4_Total\"] for posterior in posteriors_ds]"
   ]
  },
  {
   "cell_type": "code",
   "execution_count": null,
   "metadata": {},
   "outputs": [],
   "source": [
    "# Calculate total emissions per interval in the region of interest\n",
    "areas = [ds[\"AREA\"] for ds in priors_ds]\n",
    "\n",
    "total_prior_emissions_per_period = [\n",
    "    sum_total_emissions(priors[i], areas[i], mask) for i in range(num_periods)\n",
    "]\n",
    "total_posterior_emissions_per_period = [\n",
    "    sum_total_emissions(posteriors[i], areas[i], mask) for i in range(num_periods)\n",
    "]\n",
    "posterior_df = pd.DataFrame(\n",
    "    {\n",
    "        \"Date\": to_datetime_list(end_dates),\n",
    "        \"Emissions\": total_posterior_emissions_per_period,\n",
    "    }\n",
    ")\n",
    "# Calculate the moving average for 4 intervals at a time\n",
    "smoothing_window = 4\n",
    "smoothing_num_days = config[\"UpdateFreqDays\"] * smoothing_window\n",
    "posterior_df[\"MovingAverage\"] = (\n",
    "    posterior_df[\"Emissions\"]\n",
    "    .rolling(window=smoothing_window, min_periods=1, center=True)\n",
    "    .mean()\n",
    ")"
   ]
  },
  {
   "cell_type": "code",
   "execution_count": null,
   "metadata": {},
   "outputs": [],
   "source": [
    "# Averaging kernel and DOFS\n",
    "A_ROIs = [\n",
    "    xr.load_dataset(inv_results_pth)[\"A\"].values[:last_ROI_element, :last_ROI_element]\n",
    "    for inv_results_pth in inversion_result_paths\n",
    "]\n",
    "\n",
    "# Calculate DOFS from averaging kernel\n",
    "DOFS = [np.trace(A_ROI) for A_ROI in A_ROIs]"
   ]
  },
  {
   "attachments": {},
   "cell_type": "markdown",
   "metadata": {},
   "source": [
    "# Plot emission variability over inversion period"
   ]
  },
  {
   "cell_type": "code",
   "execution_count": null,
   "metadata": {},
   "outputs": [],
   "source": [
    "# plot time series with emissions, moving average, and DOFS\n",
    "y_data = [posterior_df[\"Emissions\"], posterior_df[\"MovingAverage\"]]\n",
    "line_labels = [\"Weekly Emission\", f\"{smoothing_num_days}-day Moving Average\"]\n",
    "plot_time_series(\n",
    "    posterior_df[\"Date\"],\n",
    "    y_data,\n",
    "    line_labels,\n",
    "    \"Posterior Emissions Time Series\",\n",
    "    \"Methane Emissions Tg/yr\",\n",
    "    DOFS=DOFS,\n",
    ")"
   ]
  }
 ],
 "metadata": {
  "kernelspec": {
   "display_name": "geo",
   "language": "python",
   "name": "python3"
  },
  "language_info": {
   "codemirror_mode": {
    "name": "ipython",
    "version": 3
   },
   "file_extension": ".py",
   "mimetype": "text/x-python",
   "name": "python",
   "nbconvert_exporter": "python",
   "pygments_lexer": "ipython3",
   "version": "3.11.6"
  },
  "orig_nbformat": 4
 },
 "nbformat": 4,
 "nbformat_minor": 2
}
