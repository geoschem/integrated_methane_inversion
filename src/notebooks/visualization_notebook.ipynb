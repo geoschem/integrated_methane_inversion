{
 "cells": [
  {
   "cell_type": "markdown",
   "metadata": {},
   "source": [
    "# Visualize inversion results"
   ]
  },
  {
   "cell_type": "markdown",
   "metadata": {},
   "source": [
    "Use this notebook to visualize some standard inversion results.\n",
    "\n",
    "See `utils.py` for the code to generate plots and count observations in the region of interest (imported below).\n",
    "\n",
    "Notebook can be accessed via AWS following these instructions: https://docs.aws.amazon.com/dlami/latest/devguide/setup-jupyter.html)"
   ]
  },
  {
   "cell_type": "code",
   "execution_count": null,
   "metadata": {},
   "outputs": [],
   "source": [
    "import numpy as np\n",
    "import xarray as xr\n",
    "import matplotlib.pyplot as plt\n",
    "import matplotlib as mpl\n",
    "import sys\n",
    "import os\n",
    "import yaml\n",
    "import pickle as pickle\n",
    "import pandas as pd\n",
    "import xesmf as xe\n",
    "import cartopy\n",
    "import cartopy.crs as ccrs\n",
    "import colorcet as cc\n",
    "from shapely.geometry.polygon import Polygon\n",
    "import shapely.ops as ops\n",
    "from functools import partial\n",
    "import pyproj\n",
    "\n",
    "from utils import plot_field, load_obj, sum_total_emissions, count_obs_in_mask\n",
    "\n",
    "import warnings\n",
    "warnings.filterwarnings(\"ignore\", category=FutureWarning) "
   ]
  },
  {
   "cell_type": "markdown",
   "metadata": {},
   "source": [
    "## Setup"
   ]
  },
  {
   "cell_type": "code",
   "execution_count": null,
   "metadata": {},
   "outputs": [],
   "source": [
    "# Read the configuration file\n",
    "config = yaml.load(open(\"/home/ubuntu/integrated_methane_inversion/config.yml\"), Loader=yaml.FullLoader)"
   ]
  },
  {
   "cell_type": "code",
   "execution_count": null,
   "metadata": {},
   "outputs": [],
   "source": [
    "# Open the state vector file\n",
    "state_vector_filepath = './../StateVector.nc'\n",
    "state_vector = xr.load_dataset(state_vector_filepath)\n",
    "state_vector_labels = state_vector['StateVector']\n",
    "\n",
    "# Identify the last element of the region of interest\n",
    "last_ROI_element = int(np.nanmax(state_vector_labels.values) - config['nBufferClusters'])\n",
    "\n",
    "# Define mask for region of interest\n",
    "mask = (state_vector_labels <= last_ROI_element)"
   ]
  },
  {
   "cell_type": "code",
   "execution_count": null,
   "metadata": {},
   "outputs": [],
   "source": [
    "# Paths to prior emissions, inversion results, GEOS/satellite data, posterior simulation\n",
    "prior_pth = f'./../jacobian_runs/{config[\"RunName\"]}_0000/OutputDir/HEMCO_diagnostics.{config[\"StartDate\"]}0000.nc'\n",
    "results_pth = './gridded_posterior.nc'\n",
    "satdat_dir = './data_converted'\n",
    "inversion_result_path = './inversion_result.nc'\n",
    "posterior_dir = './data_converted_posterior'\n",
    "visualization_dir = './data_visualization'\n",
    "posterior_viz_dir = './data_visualization_posterior'"
   ]
  },
  {
   "cell_type": "code",
   "execution_count": null,
   "metadata": {},
   "outputs": [],
   "source": [
    "# Set latitude/longitude bounds for plots\n",
    "\n",
    "# Trim 1-2.5 degrees to remove GEOS-Chem buffer zone\n",
    "if config['Res'] == '0.25x0.3125':\n",
    "    degx = 4 * 0.3125\n",
    "    degy = 4 * 0.25\n",
    "elif config['Res'] == '0.5x0.625':\n",
    "    degx = 4 * 0.625\n",
    "    degy = 4 * 0.5\n",
    "\n",
    "lon_bounds = [np.min(state_vector.lon.values)+degx, np.max(state_vector.lon.values)-degx]\n",
    "lat_bounds = [np.min(state_vector.lat.values)+degy, np.max(state_vector.lat.values)-degy]"
   ]
  },
  {
   "cell_type": "markdown",
   "metadata": {},
   "source": [
    "## State vector"
   ]
  },
  {
   "cell_type": "code",
   "execution_count": null,
   "metadata": {},
   "outputs": [],
   "source": [
    "fig = plt.figure(figsize=(8,8))\n",
    "plt.rcParams.update({'font.size': 16})\n",
    "ax = fig.subplots(1,1,subplot_kw={'projection': ccrs.PlateCarree()})\n",
    "\n",
    "plot_field(ax, state_vector_labels, cmap=cc.cm.glasbey, \n",
    "           title='State vector elements', cbar_label='Element Id')"
   ]
  },
  {
   "cell_type": "markdown",
   "metadata": {},
   "source": [
    "## Prior and posterior emissions in the region of interest"
   ]
  },
  {
   "cell_type": "code",
   "execution_count": null,
   "metadata": {},
   "outputs": [],
   "source": [
    "# Prior emissions\n",
    "prior = xr.load_dataset(prior_pth)['EmisCH4_Total'].isel(time=0)\n",
    "\n",
    "# Optimized scale factors\n",
    "scale = xr.load_dataset(results_pth)['ScaleFactor']\n",
    "\n",
    "# Posterior emissions\n",
    "posterior = prior * scale"
   ]
  },
  {
   "cell_type": "code",
   "execution_count": null,
   "metadata": {},
   "outputs": [],
   "source": [
    "# Total emissions in the region of interest\n",
    "\n",
    "areas = xr.load_dataset(prior_pth)['AREA']\n",
    "\n",
    "total_prior_emissions = sum_total_emissions(prior, areas, mask)\n",
    "total_posterior_emissions = sum_total_emissions(posterior, areas, mask)\n",
    "\n",
    "print('Prior     emissions :', total_prior_emissions, 'Tg/y')\n",
    "print('Posterior emissions :', total_posterior_emissions, 'Tg/y')"
   ]
  },
  {
   "cell_type": "code",
   "execution_count": null,
   "metadata": {},
   "outputs": [],
   "source": [
    "# Plot prior emissions\n",
    "fig = plt.figure(figsize=(8,8))\n",
    "plt.rcParams.update({'font.size': 16})\n",
    "ax = fig.subplots(1,1,subplot_kw={'projection': ccrs.PlateCarree()})\n",
    "\n",
    "prior_kgkm2h = prior * (1000 ** 2) * 60 * 60  # Units kg/km2/h\n",
    "\n",
    "plot_field(ax, prior_kgkm2h, cmap=cc.cm.linear_kryw_5_100_c67_r, \n",
    "           lon_bounds=lon_bounds, lat_bounds=lat_bounds,\n",
    "           vmin=0, vmax=14, title='Prior emissions', cbar_label='Emissions (kg km$^{-2}$ h$^{-1}$)',\n",
    "           only_ROI=True, state_vector_labels=state_vector_labels, last_ROI_element=last_ROI_element)"
   ]
  },
  {
   "cell_type": "code",
   "execution_count": null,
   "metadata": {},
   "outputs": [],
   "source": [
    "# Plot posterior emissions\n",
    "fig = plt.figure(figsize=(8,8))\n",
    "plt.rcParams.update({'font.size': 16})\n",
    "ax = fig.subplots(1,1,subplot_kw={'projection': ccrs.PlateCarree()})\n",
    "\n",
    "posterior_kgkm2h = posterior * (1000 ** 2) * 60 * 60  # Units kg/km2/h\n",
    "\n",
    "plot_field(ax, posterior_kgkm2h, cmap=cc.cm.linear_kryw_5_100_c67_r, \n",
    "           lon_bounds=lon_bounds, lat_bounds=lat_bounds,\n",
    "           vmin=0, vmax=14, title='Posterior emissions', cbar_label='Emissions (kg km$^{-2}$ h$^{-1}$)',\n",
    "           only_ROI=True, state_vector_labels=state_vector_labels, last_ROI_element=last_ROI_element)"
   ]
  },
  {
   "cell_type": "markdown",
   "metadata": {},
   "source": [
    "## Scale factors"
   ]
  },
  {
   "cell_type": "code",
   "execution_count": null,
   "metadata": {},
   "outputs": [],
   "source": [
    "fig = plt.figure(figsize=(8,8))\n",
    "plt.rcParams.update({'font.size': 16})\n",
    "ax = fig.subplots(1,1,subplot_kw={'projection': ccrs.PlateCarree()})\n",
    "\n",
    "plot_field(ax, scale, cmap='RdBu_r',\n",
    "           lon_bounds=lon_bounds, lat_bounds=lat_bounds,\n",
    "           vmin=0, vmax=2, title='Scale factors', cbar_label='Scale factor',\n",
    "           only_ROI=True, state_vector_labels=state_vector_labels, last_ROI_element=last_ROI_element)"
   ]
  },
  {
   "cell_type": "markdown",
   "metadata": {},
   "source": [
    "## Averaging kernel sensitivities"
   ]
  },
  {
   "cell_type": "code",
   "execution_count": null,
   "metadata": {},
   "outputs": [],
   "source": [
    "S_post_grid = xr.load_dataset(results_pth)['S_post']\n",
    "A_grid = xr.load_dataset(results_pth)['A']\n",
    "avkern_ROI = A_grid.where(state_vector_labels <= last_ROI_element)"
   ]
  },
  {
   "cell_type": "code",
   "execution_count": null,
   "metadata": {},
   "outputs": [],
   "source": [
    "fig = plt.figure(figsize=(8,8))\n",
    "plt.rcParams.update({'font.size': 16})\n",
    "ax = fig.subplots(1,1,subplot_kw={'projection': ccrs.PlateCarree()})\n",
    "\n",
    "plot_field(ax, avkern_ROI, cmap=cc.cm.CET_L19,\n",
    "           lon_bounds=lon_bounds, lat_bounds=lat_bounds,\n",
    "           title='Averaging kernel sensitivities', cbar_label='Sensitivity', \n",
    "           only_ROI=True, state_vector_labels=state_vector_labels, last_ROI_element=last_ROI_element)"
   ]
  },
  {
   "cell_type": "code",
   "execution_count": null,
   "metadata": {},
   "outputs": [],
   "source": [
    "DOFS = np.nansum(avkern_ROI.values)\n",
    "print('DOFS =', DOFS)"
   ]
  },
  {
   "cell_type": "markdown",
   "metadata": {},
   "source": [
    "## Open TROPOMI and GEOS-Chem columns"
   ]
  },
  {
   "cell_type": "code",
   "execution_count": null,
   "metadata": {},
   "outputs": [],
   "source": [
    "# Get observed and GEOS-Chem-simulated TROPOMI columns\n",
    "def aggregate_data(data_dir, data_posterior):\n",
    "    files = np.sort(os.listdir(data_dir))\n",
    "    lat = np.array([])\n",
    "    lon = np.array([])\n",
    "    tropomi = np.array([])\n",
    "    geos_prior = np.array([])\n",
    "    geos_posterior = np.array([])\n",
    "    observation_count = np.array([])\n",
    "\n",
    "    for f in files:\n",
    "        # Get paths\n",
    "        pth = os.path.join(data_dir,f)\n",
    "        pth_posterior = os.path.join(data_posterior,f)\n",
    "        # Load TROPOMI/GEOS-Chem and Jacobian matrix data from the .pkl file\n",
    "        obj = load_obj(pth)\n",
    "        obj_posterior = load_obj(pth_posterior)\n",
    "        # If there aren't any TROPOMI observations on this day, skip\n",
    "        if obj['obs_GC'].shape[0] == 0:\n",
    "            continue\n",
    "        # Otherwise, grab the TROPOMI/GEOS-Chem data\n",
    "        obs_GC = obj['obs_GC']\n",
    "        obs_GC_posterior = obj_posterior['obs_GC']\n",
    "        # Only consider data within latitude and longitude bounds\n",
    "        ind = np.where((obs_GC[:,2]>=lon_bounds[0]) & (obs_GC[:,2]<=lon_bounds[1]) & \n",
    "                       (obs_GC[:,3]>=lat_bounds[0]) & (obs_GC[:,3]<=lat_bounds[1]))\n",
    "        if (len(ind[0]) == 0):          # Skip if no data in bounds\n",
    "            continue\n",
    "        obs_GC = obs_GC[ind[0],:]       # TROPOMI and GEOS-Chem data within bounds\n",
    "        obs_GC_posterior = obs_GC_posterior[ind[0],:]\n",
    "        # Record lat, lon, tropomi ch4, and geos ch4\n",
    "        lat = np.concatenate((lat, obs_GC[:,3]))\n",
    "        lon = np.concatenate((lon, obs_GC[:,2]))\n",
    "        tropomi = np.concatenate((tropomi, obs_GC[:,0]))\n",
    "        geos_prior = np.concatenate((geos_prior, obs_GC[:,1]))\n",
    "        observation_count = np.concatenate((observation_count, obs_GC[:,4]))\n",
    "        geos_posterior = np.concatenate((geos_posterior, obs_GC_posterior[:,1]))\n",
    "    \n",
    "    df = pd.DataFrame()\n",
    "    df['lat'] = lat\n",
    "    df['lon'] = lon\n",
    "    df['tropomi'] = tropomi\n",
    "    df['geos_prior'] = geos_prior\n",
    "    df['geos_posterior'] = geos_posterior\n",
    "    df['diff_tropomi_prior'] = geos_prior - tropomi\n",
    "    df['diff_tropomi_posterior'] = geos_posterior - tropomi\n",
    "    df['observation_count'] = observation_count\n",
    "\n",
    "    return df\n",
    "superobs_df = aggregate_data(satdat_dir, posterior_dir)\n",
    "visualization_df = aggregate_data(visualization_dir, posterior_viz_dir)\n",
    "n_obs = len(superobs_df['tropomi'])\n",
    "\n",
    "print(f'Found {n_obs} super-observations in the domain, representing {np.sum(superobs_df[\"observation_count\"]).round(0)} TROPOMI observations.')\n",
    "superobs_df.head()"
   ]
  },
  {
   "cell_type": "markdown",
   "metadata": {},
   "source": [
    "Note: This observation count is for the lat/lon bounds defined in input cell 5."
   ]
  },
  {
   "cell_type": "code",
   "execution_count": null,
   "metadata": {},
   "outputs": [],
   "source": [
    "# Print some error statistics\n",
    "print('Bias in prior     :'  , np.round(np.average(superobs_df['diff_tropomi_prior'], weights=superobs_df['observation_count']),2),'ppb')\n",
    "print('Bias in posterior :'  , np.round(np.average(superobs_df['diff_tropomi_posterior'], weights=superobs_df['observation_count']),2),'ppb')\n",
    "print('RMSE prior        :'  , np.round(np.sqrt(np.average(superobs_df['diff_tropomi_prior']**2, weights=superobs_df['observation_count'])),2),'ppb')\n",
    "print('RMSE posterior    :'  , np.round(np.sqrt(np.average(superobs_df['diff_tropomi_posterior']**2, weights=superobs_df['observation_count'])),2),'ppb')"
   ]
  },
  {
   "cell_type": "markdown",
   "metadata": {},
   "source": [
    "## Count observations within the region of interest"
   ]
  },
  {
   "cell_type": "code",
   "execution_count": null,
   "metadata": {},
   "outputs": [],
   "source": [
    "print('Found',count_obs_in_mask(mask, superobs_df),'super-observations within the region of interest')"
   ]
  },
  {
   "cell_type": "markdown",
   "metadata": {},
   "source": [
    "## Compare TROPOMI and GEOS-Chem columns"
   ]
  },
  {
   "cell_type": "markdown",
   "metadata": {},
   "source": [
    "### Comparison at 0.1 x 0.1 resolution"
   ]
  },
  {
   "cell_type": "code",
   "execution_count": null,
   "metadata": {},
   "outputs": [],
   "source": [
    "# Simple averaging scheme to grid the XCH4 data at 0.1 x 0.1 resolution\n",
    "df_copy = visualization_df.copy() # save for later\n",
    "visualization_df['lat'] = np.round(visualization_df['lat'],1)\n",
    "visualization_df['lon'] = np.round(visualization_df['lon'],1)\n",
    "visualization_df = visualization_df.groupby(['lat','lon']).mean()\n",
    "ds = visualization_df.to_xarray()"
   ]
  },
  {
   "cell_type": "code",
   "execution_count": null,
   "metadata": {},
   "outputs": [],
   "source": [
    "# Mean TROPOMI XCH4 columns on 0.1 x 0.1 grid\n",
    "fig = plt.figure(figsize=(8,8))\n",
    "ax = fig.subplots(1,1,subplot_kw={'projection': ccrs.PlateCarree()})\n",
    "\n",
    "plot_field(ax, ds['tropomi'], cmap='Spectral_r',\n",
    "           vmin=1800, vmax=1850, lon_bounds=lon_bounds, lat_bounds=lat_bounds,\n",
    "           title='TROPOMI $X_{CH4}$', cbar_label='Column mixing ratio (ppb)', \n",
    "           mask=mask, only_ROI=False)"
   ]
  },
  {
   "cell_type": "code",
   "execution_count": null,
   "metadata": {},
   "outputs": [],
   "source": [
    "# Mean prior and posterior GEOS-Chem XCH4 columns on 0.1 x 0.1 grid\n",
    "fig = plt.figure(figsize=(20,8))\n",
    "ax1, ax2 = fig.subplots(1,2,subplot_kw={'projection': ccrs.PlateCarree()})\n",
    "\n",
    "plot_field(ax1, ds['geos_prior'], cmap='Spectral_r',\n",
    "           vmin=1800, vmax=1850, lon_bounds=lon_bounds, lat_bounds=lat_bounds,\n",
    "           title='GEOS-Chem $X_{CH4}$ (prior simulation)', cbar_label='Dry column mixing ratio (ppb)', \n",
    "           mask=mask, only_ROI=False)\n",
    "\n",
    "plot_field(ax2, ds['geos_posterior'], cmap='Spectral_r',\n",
    "           vmin=1800, vmax=1850, lon_bounds=lon_bounds, lat_bounds=lat_bounds,\n",
    "           title='GEOS-Chem $X_{CH4}$ (posterior simulation)', cbar_label='Dry column mixing ratio (ppb)', \n",
    "           mask=mask, only_ROI=False)"
   ]
  },
  {
   "cell_type": "code",
   "execution_count": null,
   "metadata": {},
   "outputs": [],
   "source": [
    "# Plot differences between GEOS-Chem and TROPOMI XCH4\n",
    "fig = plt.figure(figsize=(20,8))\n",
    "ax1, ax2 = fig.subplots(1,2,subplot_kw={'projection': ccrs.PlateCarree()})\n",
    "\n",
    "plot_field(ax1, ds['diff_tropomi_prior'], cmap='RdBu_r',\n",
    "           vmin=-40, vmax=40, lon_bounds=lon_bounds, lat_bounds=lat_bounds,\n",
    "           title='Prior $-$ TROPOMI', cbar_label='ppb', \n",
    "           mask=mask, only_ROI=False)\n",
    "\n",
    "plot_field(ax2, ds['diff_tropomi_posterior'], cmap='RdBu_r',\n",
    "           vmin=-40, vmax=40, lon_bounds=lon_bounds, lat_bounds=lat_bounds,\n",
    "           title='Posterior $-$ TROPOMI', cbar_label='ppb', \n",
    "           mask=mask, only_ROI=False)"
   ]
  },
  {
   "cell_type": "code",
   "execution_count": null,
   "metadata": {},
   "outputs": [],
   "source": [
    "# Plot differences between posterior and prior simulated XCH4\n",
    "fig = plt.figure(figsize=(8,8))\n",
    "ax = fig.subplots(1,1,subplot_kw={'projection': ccrs.PlateCarree()})\n",
    "\n",
    "diff = ds['geos_posterior']-ds['geos_prior']\n",
    "\n",
    "plot_field(ax, diff, cmap='seismic',\n",
    "           vmin=-np.nanmax(diff),vmax=np.nanmax(diff),\n",
    "           lon_bounds=lon_bounds, lat_bounds=lat_bounds,\n",
    "           title='$\\Delta X_{CH4}$ (Posterior $-$ Prior)', cbar_label='ppb', \n",
    "           mask=mask, only_ROI=False)"
   ]
  },
  {
   "cell_type": "markdown",
   "metadata": {},
   "source": [
    "### Comparison at 0.25 x 0.3125 resolution"
   ]
  },
  {
   "cell_type": "code",
   "execution_count": null,
   "metadata": {},
   "outputs": [],
   "source": [
    "# Simple averaging scheme to grid the XCH4 data at 0.1 x 0.1 resolution\n",
    "df_copy = superobs_df.copy() # save for later\n",
    "superobs_df['lat'] = np.round(superobs_df['lat'],1)\n",
    "superobs_df['lon'] = np.round(superobs_df['lon'],1)\n",
    "superobs_df = superobs_df.groupby(['lat','lon']).mean()\n",
    "ds = superobs_df.to_xarray()"
   ]
  },
  {
   "cell_type": "code",
   "execution_count": null,
   "metadata": {},
   "outputs": [],
   "source": [
    "# calculate the grid bounds for .1x.1 grid\n",
    "lat_b = np.arange(ds[\"lat\"][0] - 0.05, ds[\"lat\"][-1] + 0.1, 0.1)\n",
    "lon_b = np.arange(ds[\"lon\"][0] - 0.05, ds[\"lon\"][-1] + 0.1, 0.1)\n",
    "ds = ds.assign_coords(lon_b=('lon_b', lon_b))\n",
    "ds = ds.assign_coords(lat_b=('lat_b', lat_b))\n",
    "ds[\"mask\"] = xr.where(~np.isnan(ds[\"tropomi\"]), 1, 0)"
   ]
  },
  {
   "cell_type": "code",
   "execution_count": null,
   "metadata": {},
   "outputs": [],
   "source": [
    "# Global 0.25 x 0.3125 grid\n",
    "reference_lat_grid = np.arange(-90 , 90+0.25   , 0.25)\n",
    "reference_lon_grid = np.arange(-180, 180+0.3125, 0.3125)\n",
    "\n",
    "# Find closest reference coordinates to selected lat/lon bounds\n",
    "lat_min = reference_lat_grid[np.abs(reference_lat_grid - lat_bounds[0]).argmin()]\n",
    "lon_min = reference_lon_grid[np.abs(reference_lon_grid - lon_bounds[0]).argmin()]\n",
    "lat_max = reference_lat_grid[np.abs(reference_lat_grid - lat_bounds[1]).argmin()]\n",
    "lon_max = reference_lon_grid[np.abs(reference_lon_grid - lon_bounds[1]).argmin()]\n",
    "\n",
    "# Create an xESMF regridder object to resample the data on the grid HEMCO expects\n",
    "new_lat_grid = np.arange(lat_min, lat_max+0.25, 0.25)\n",
    "new_lon_grid = np.arange(lon_min, lon_max+0.3125, 0.3125)\n",
    "new_lat_b = np.arange(new_lat_grid[0]-0.125, new_lat_grid[-1]+0.25, 0.25)\n",
    "new_lon_b = np.arange(new_lon_grid[0]-0.15625, new_lon_grid[-1]+0.3125, 0.3125)\n",
    "ds_out = xr.Dataset({'lat': (['lat'], new_lat_grid),\n",
    "                     'lon': (['lon'], new_lon_grid),\n",
    "                     'lat_b': (['lat_b'], new_lat_b),\n",
    "                     'lon_b': (['lon_b'], new_lon_b),\n",
    "                    }\n",
    "                   )\n",
    "\n",
    "regridder = xe.Regridder(ds, ds_out, 'conservative_normed')"
   ]
  },
  {
   "cell_type": "code",
   "execution_count": null,
   "metadata": {},
   "outputs": [],
   "source": [
    "# Regrid the data\n",
    "ds_regrid = regridder(ds)"
   ]
  },
  {
   "cell_type": "code",
   "execution_count": null,
   "metadata": {},
   "outputs": [],
   "source": [
    "# Re-plot differences between GEOS-Chem and TROPOMI XCH4\n",
    "fig = plt.figure(figsize=(20,8))\n",
    "ax1, ax2 = fig.subplots(1,2,subplot_kw={'projection': ccrs.PlateCarree()})\n",
    "\n",
    "plot_field(ax1, ds_regrid['diff_tropomi_prior'], cmap='RdBu_r',\n",
    "           vmin=-25, vmax=25, lon_bounds=lon_bounds, lat_bounds=lat_bounds,\n",
    "           title='Prior $-$ TROPOMI', cbar_label='ppb', \n",
    "           mask=mask, only_ROI=False)\n",
    "\n",
    "plot_field(ax2, ds_regrid['diff_tropomi_posterior'], cmap='RdBu_r',\n",
    "           vmin=-25, vmax=25, lon_bounds=lon_bounds, lat_bounds=lat_bounds,\n",
    "           title='Posterior $-$ TROPOMI', cbar_label='ppb', \n",
    "           mask=mask, only_ROI=False)"
   ]
  },
  {
   "cell_type": "code",
   "execution_count": null,
   "metadata": {},
   "outputs": [],
   "source": [
    "# Re-plot differences between posterior and prior simulated XCH4\n",
    "fig = plt.figure(figsize=(8,8))\n",
    "ax = fig.subplots(1,1,subplot_kw={'projection': ccrs.PlateCarree()})\n",
    "\n",
    "diff_regrid = ds_regrid['geos_posterior']-ds_regrid['geos_prior']\n",
    "\n",
    "plot_field(ax, diff_regrid, cmap='seismic',\n",
    "           vmin=-np.nanmax(diff_regrid),vmax=np.nanmax(diff_regrid), \n",
    "           lon_bounds=lon_bounds, lat_bounds=lat_bounds,\n",
    "           title='Posterior $-$ Prior', cbar_label='ppb', \n",
    "           mask=mask, only_ROI=False)"
   ]
  },
  {
   "cell_type": "markdown",
   "metadata": {},
   "source": [
    "----"
   ]
  }
 ],
 "metadata": {
  "kernelspec": {
   "display_name": "Python 3.10.6 64-bit",
   "language": "python",
   "name": "python3"
  },
  "language_info": {
   "codemirror_mode": {
    "name": "ipython",
    "version": 3
   },
   "file_extension": ".py",
   "mimetype": "text/x-python",
   "name": "python",
   "nbconvert_exporter": "python",
   "pygments_lexer": "ipython3",
   "version": "3.10.6"
  },
  "vscode": {
   "interpreter": {
    "hash": "b0fa6594d8f4cbf19f97940f81e996739fb7646882a419484c72d19e05852a7e"
   }
  }
 },
 "nbformat": 4,
 "nbformat_minor": 4
}
