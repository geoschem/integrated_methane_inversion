{
 "cells": [
  {
   "attachments": {},
   "cell_type": "markdown",
   "metadata": {},
   "source": [
    "# Visualize inversion results"
   ]
  },
  {
   "attachments": {},
   "cell_type": "markdown",
   "metadata": {},
   "source": [
    "Use this notebook to visualize some standard inversion results.\n",
    "\n",
    "See `utils.py` for the code to generate plots and count observations in the region of interest (imported below).\n",
    "\n",
    "Notebook can be accessed via AWS following these instructions: https://docs.aws.amazon.com/dlami/latest/devguide/setup-jupyter.html)"
   ]
  },
  {
   "cell_type": "code",
   "execution_count": null,
   "metadata": {},
   "outputs": [],
   "source": [
    "import numpy as np\n",
    "import xarray as xr\n",
    "import matplotlib.pyplot as plt\n",
    "import matplotlib as mpl\n",
    "import sys\n",
    "import os\n",
    "import yaml\n",
    "import pickle as pickle\n",
    "import pandas as pd\n",
    "import xesmf as xe\n",
    "import cartopy\n",
    "import cartopy.crs as ccrs\n",
    "import colorcet as cc\n",
    "from shapely.geometry.polygon import Polygon\n",
    "import shapely.ops as ops\n",
    "from functools import partial\n",
    "import pyproj\n",
    "\n",
    "from utils import plot_field, load_obj, sum_total_emissions, count_obs_in_mask\n",
    "\n",
    "import warnings\n",
    "\n",
    "warnings.filterwarnings(\"ignore\", category=FutureWarning)"
   ]
  },
  {
   "attachments": {},
   "cell_type": "markdown",
   "metadata": {},
   "source": [
    "## Setup"
   ]
  },
  {
   "cell_type": "code",
   "execution_count": null,
   "metadata": {},
   "outputs": [],
   "source": [
    "# Read the configuration file\n",
    "config = yaml.load(open(\"/home/ubuntu/integrated_methane_inversion/config.yml\"), Loader=yaml.FullLoader)"
   ]
  },
  {
   "cell_type": "code",
   "execution_count": null,
   "metadata": {},
   "outputs": [],
   "source": [
    "# Open the state vector file\n",
    "state_vector_filepath = \"./../StateVector.nc\"\n",
    "state_vector = xr.load_dataset(state_vector_filepath)\n",
    "state_vector_labels = state_vector[\"StateVector\"]\n",
    "\n",
    "# Identify the last element of the region of interest\n",
    "last_ROI_element = int(np.nanmax(state_vector_labels.values) - config[\"nBufferClusters\"])\n",
    "\n",
    "# Define mask for region of interest\n",
    "mask = (state_vector_labels <= last_ROI_element)"
   ]
  },
  {
   "cell_type": "code",
   "execution_count": null,
   "metadata": {},
   "outputs": [],
   "source": [
    "# Paths to prior emissions, inversion results, GEOS/satellite data, posterior simulation\n",
    "# update prior prefix and period based on whether using kalman mode\n",
    "if config[\"KalmanMode\"]:\n",
    "    prior_prefix = \"./../..\"\n",
    "    period = int(os.getcwd().split(\"kf_inversions/period\")[-1])  # get current period\n",
    "    periods_df = pd.read_csv(\"./../../periods.csv\")\n",
    "    start_date = periods_df.iloc[period - 1, 0]\n",
    "else:\n",
    "    prior_prefix = \"./..\"\n",
    "    start_date = config[\"StartDate\"]\n",
    "\n",
    "prior_pth = f'{prior_prefix}/jacobian_runs/{config[\"RunName\"]}_0000/OutputDir/HEMCO_diagnostics.{start_date}0000.nc'\n",
    "satdat_dir = \"./data_converted\"\n",
    "results_pth = (\n",
    "    \"./gridded_posterior_ln.nc\"\n",
    "    if config[\"LognormalErrors\"]\n",
    "    else \"./gridded_posterior.nc\"\n",
    ")\n",
    "inversion_result_path = (\n",
    "    \"./inversion_result_ln.nc\"\n",
    "    if config[\"LognormalErrors\"]\n",
    "    else \"./inversion_result.nc\"\n",
    ")\n",
    "posterior_dir = \"./data_converted_posterior\"\n",
    "visualization_dir = \"./data_visualization\"\n",
    "posterior_viz_dir = \"./data_visualization_posterior\""
   ]
  },
  {
   "cell_type": "code",
   "execution_count": null,
   "metadata": {},
   "outputs": [],
   "source": [
    "# Set latitude/longitude bounds for plots\n",
    "\n",
    "# Trim 1-2.5 degrees to remove GEOS-Chem buffer zone\n",
    "if config[\"Res\"] == \"0.25x0.3125\":\n",
    "    degx = 4 * 0.3125\n",
    "    degy = 4 * 0.25\n",
    "elif config[\"Res\"] == \"0.5x0.625\":\n",
    "    degx = 4 * 0.625\n",
    "    degy = 4 * 0.5\n",
    "\n",
    "lon_bounds = [np.min(state_vector.lon.values) + degx, np.max(state_vector.lon.values) - degx]\n",
    "lat_bounds = [np.min(state_vector.lat.values) + degy, np.max(state_vector.lat.values) - degy]"
   ]
  },
  {
   "attachments": {},
   "cell_type": "markdown",
   "metadata": {},
   "source": [
    "## State vector"
   ]
  },
  {
   "cell_type": "code",
   "execution_count": null,
   "metadata": {},
   "outputs": [],
   "source": [
    "fig = plt.figure(figsize=(8, 8))\n",
    "plt.rcParams.update({\"font.size\": 16})\n",
    "ax = fig.subplots(1, 1, subplot_kw={\"projection\": ccrs.PlateCarree()})\n",
    "\n",
    "plot_field(\n",
    "    ax,\n",
    "    state_vector_labels,\n",
    "    cmap=cc.cm.glasbey,\n",
    "    title=\"State vector elements\",\n",
    "    cbar_label=\"Element Id\",\n",
    ")"
   ]
  },
  {
   "attachments": {},
   "cell_type": "markdown",
   "metadata": {},
   "source": [
    "## Prior and posterior emissions in the region of interest"
   ]
  },
  {
   "cell_type": "code",
   "execution_count": null,
   "metadata": {},
   "outputs": [],
   "source": [
    "# Prior emissions\n",
    "prior = xr.load_dataset(prior_pth)[\"EmisCH4_Total\"].isel(time=0)\n",
    "\n",
    "# Optimized scale factors\n",
    "scale = xr.load_dataset(results_pth)[\"ScaleFactor\"]\n",
    "\n",
    "# Posterior emissions\n",
    "posterior = prior * scale"
   ]
  },
  {
   "cell_type": "code",
   "execution_count": null,
   "metadata": {},
   "outputs": [],
   "source": [
    "# Total emissions in the region of interest\n",
    "\n",
    "areas = xr.load_dataset(prior_pth)[\"AREA\"]\n",
    "\n",
    "total_prior_emissions = sum_total_emissions(prior, areas, mask)\n",
    "total_posterior_emissions = sum_total_emissions(posterior, areas, mask)\n",
    "\n",
    "print(\"Prior     emissions :\", total_prior_emissions, \"Tg/y\")\n",
    "print(\"Posterior emissions :\", total_posterior_emissions, \"Tg/y\")"
   ]
  },
  {
   "cell_type": "code",
   "execution_count": null,
   "metadata": {},
   "outputs": [],
   "source": [
    "# Plot prior emissions\n",
    "fig = plt.figure(figsize=(8, 8))\n",
    "plt.rcParams.update({\"font.size\": 16})\n",
    "ax = fig.subplots(1, 1, subplot_kw={\"projection\": ccrs.PlateCarree()})\n",
    "\n",
    "prior_kgkm2h = prior * (1000**2) * 60 * 60  # Units kg/km2/h\n",
    "\n",
    "plot_field(\n",
    "    ax,\n",
    "    prior_kgkm2h,\n",
    "    cmap=cc.cm.linear_kryw_5_100_c67_r,\n",
    "    lon_bounds=lon_bounds,\n",
    "    lat_bounds=lat_bounds,\n",
    "    vmin=0,\n",
    "    vmax=14,\n",
    "    title=\"Prior emissions\",\n",
    "    cbar_label=\"Emissions (kg km$^{-2}$ h$^{-1}$)\",\n",
    "    only_ROI=True,\n",
    "    state_vector_labels=state_vector_labels,\n",
    "    last_ROI_element=last_ROI_element,\n",
    ")"
   ]
  },
  {
   "cell_type": "code",
   "execution_count": null,
   "metadata": {},
   "outputs": [],
   "source": [
    "# Plot posterior emissions\n",
    "fig = plt.figure(figsize=(8, 8))\n",
    "plt.rcParams.update({\"font.size\": 16})\n",
    "ax = fig.subplots(1, 1, subplot_kw={\"projection\": ccrs.PlateCarree()})\n",
    "\n",
    "posterior_kgkm2h = posterior * (1000**2) * 60 * 60  # Units kg/km2/h\n",
    "\n",
    "plot_field(\n",
    "    ax,\n",
    "    posterior_kgkm2h,\n",
    "    cmap=cc.cm.linear_kryw_5_100_c67_r,\n",
    "    lon_bounds=lon_bounds,\n",
    "    lat_bounds=lat_bounds,\n",
    "    vmin=0,\n",
    "    vmax=14,\n",
    "    title=\"Posterior emissions\",\n",
    "    cbar_label=\"Emissions (kg km$^{-2}$ h$^{-1}$)\",\n",
    "    only_ROI=True,\n",
    "    state_vector_labels=state_vector_labels,\n",
    "    last_ROI_element=last_ROI_element,\n",
    ")"
   ]
  },
  {
   "cell_type": "markdown",
   "metadata": {},
   "source": [
    "## Sectoral Emissions"
   ]
  },
  {
   "cell_type": "code",
   "execution_count": null,
   "metadata": {},
   "outputs": [],
   "source": [
    "def my_autopct(\n",
    "    pct,\n",
    "):  # Only plots the data labels for sectoral emissions that are larger than 15%\n",
    "    return (\"%.1f%%\" % pct) if pct > 15 else \"\"\n",
    "\n",
    "# load in full sectors based on prior distribution\n",
    "posterior_sectors = xr.load_dataset(prior_pth) * scale\n",
    "\n",
    "# extract sector names\n",
    "sector_list = [var for var in list(posterior_sectors.keys()) if \"EmisCH4\" in var]\n",
    "sector_list.remove(\"EmisCH4_Total\")\n",
    "\n",
    "# calculate total emissions for each sector and print\n",
    "emission_types = {}\n",
    "for sector in sector_list:\n",
    "    emission = sum_total_emissions(\n",
    "        posterior_sectors[sector].isel(time=0), areas, mask\n",
    "    )\n",
    "    print(f\"{sector} = {emission} Tg/yr\")\n",
    "    if emission > 0:\n",
    "        emission_types[sector] = emission\n",
    "\n",
    "title = plt.title(\"CH4 emissions by sector\")\n",
    "title.set_ha(\"center\")\n",
    "plt.gca().axis(\"equal\")\n",
    "\n",
    "pie = plt.pie(np.array(list(emission_types.values()))/total_posterior_emissions, startangle=0, autopct=my_autopct)\n",
    "plt.legend(\n",
    "    pie[0],\n",
    "    emission_types.keys(),\n",
    "    bbox_to_anchor=(1, 0.5),\n",
    "    loc=\"center right\",\n",
    "    fontsize=10,\n",
    "    bbox_transform=plt.gcf().transFigure,\n",
    ")\n",
    "plt.subplots_adjust(left=0.0, bottom=0.1, right=0.65)"
   ]
  },
  {
   "attachments": {},
   "cell_type": "markdown",
   "metadata": {},
   "source": [
    "## Scale factors"
   ]
  },
  {
   "cell_type": "code",
   "execution_count": null,
   "metadata": {},
   "outputs": [],
   "source": [
    "fig = plt.figure(figsize=(8, 8))\n",
    "plt.rcParams.update({\"font.size\": 16})\n",
    "ax = fig.subplots(1, 1, subplot_kw={\"projection\": ccrs.PlateCarree()})\n",
    "\n",
    "plot_field(\n",
    "    ax,\n",
    "    scale,\n",
    "    cmap=\"RdBu_r\",\n",
    "    lon_bounds=lon_bounds,\n",
    "    lat_bounds=lat_bounds,\n",
    "    vmin=0,\n",
    "    vmax=2,\n",
    "    title=\"Scale factors\",\n",
    "    cbar_label=\"Scale factor\",\n",
    "    only_ROI=True,\n",
    "    state_vector_labels=state_vector_labels,\n",
    "    last_ROI_element=last_ROI_element,\n",
    ")"
   ]
  },
  {
   "attachments": {},
   "cell_type": "markdown",
   "metadata": {},
   "source": [
    "## Averaging kernel sensitivities"
   ]
  },
  {
   "cell_type": "code",
   "execution_count": null,
   "metadata": {},
   "outputs": [],
   "source": [
    "S_post_grid = xr.load_dataset(results_pth)[\"S_post\"]\n",
    "A_grid = xr.load_dataset(results_pth)[\"A\"]\n",
    "avkern_ROI = A_grid.where(state_vector_labels <= last_ROI_element)"
   ]
  },
  {
   "cell_type": "code",
   "execution_count": null,
   "metadata": {},
   "outputs": [],
   "source": [
    "fig = plt.figure(figsize=(8, 8))\n",
    "plt.rcParams.update({\"font.size\": 16})\n",
    "ax = fig.subplots(1, 1, subplot_kw={\"projection\": ccrs.PlateCarree()})\n",
    "\n",
    "plot_field(\n",
    "    ax,\n",
    "    avkern_ROI,\n",
    "    cmap=cc.cm.CET_L19,\n",
    "    lon_bounds=lon_bounds,\n",
    "    lat_bounds=lat_bounds,\n",
    "    title=\"Averaging kernel sensitivities\",\n",
    "    cbar_label=\"Sensitivity\",\n",
    "    only_ROI=True,\n",
    "    state_vector_labels=state_vector_labels,\n",
    "    last_ROI_element=last_ROI_element,\n",
    ")"
   ]
  },
  {
   "cell_type": "code",
   "execution_count": null,
   "metadata": {},
   "outputs": [],
   "source": [
    "# ungridded inversion result is used to calculate DOFS using the trace of the averaging kernel\n",
    "A_ROI = xr.load_dataset(inversion_result_path)[\"A\"].values[:last_ROI_element, :last_ROI_element]\n",
    "DOFS = np.trace(A_ROI)\n",
    "print(\"DOFS =\", DOFS)"
   ]
  },
  {
   "attachments": {},
   "cell_type": "markdown",
   "metadata": {},
   "source": [
    "## Open TROPOMI and GEOS-Chem columns"
   ]
  },
  {
   "cell_type": "code",
   "execution_count": null,
   "metadata": {},
   "outputs": [],
   "source": [
    "# Get observed and GEOS-Chem-simulated TROPOMI columns\n",
    "def aggregate_data(data_dir, data_posterior):\n",
    "    files = np.sort(os.listdir(data_dir))\n",
    "    lat = np.array([])\n",
    "    lon = np.array([])\n",
    "    tropomi = np.array([])\n",
    "    geos_prior = np.array([])\n",
    "    geos_posterior = np.array([])\n",
    "    observation_count = np.array([])\n",
    "\n",
    "    for f in files:\n",
    "        # Get paths\n",
    "        pth = os.path.join(data_dir, f)\n",
    "        pth_posterior = os.path.join(data_posterior, f)\n",
    "        # Load TROPOMI/GEOS-Chem and Jacobian matrix data from the .pkl file\n",
    "        obj = load_obj(pth)\n",
    "        obj_posterior = load_obj(pth_posterior)\n",
    "        # If there aren't any TROPOMI observations on this day, skip\n",
    "        if obj[\"obs_GC\"].shape[0] == 0:\n",
    "            continue\n",
    "        # Otherwise, grab the TROPOMI/GEOS-Chem data\n",
    "        obs_GC = obj[\"obs_GC\"]\n",
    "        obs_GC_posterior = obj_posterior[\"obs_GC\"]\n",
    "        # Only consider data within latitude and longitude bounds\n",
    "        ind = np.where(\n",
    "            (obs_GC[:, 2] >= lon_bounds[0])\n",
    "            & (obs_GC[:, 2] <= lon_bounds[1])\n",
    "            & (obs_GC[:, 3] >= lat_bounds[0])\n",
    "            & (obs_GC[:, 3] <= lat_bounds[1])\n",
    "        )\n",
    "        if len(ind[0]) == 0:  # Skip if no data in bounds\n",
    "            continue\n",
    "        obs_GC = obs_GC[ind[0], :]  # TROPOMI and GEOS-Chem data within bounds\n",
    "        obs_GC_posterior = obs_GC_posterior[ind[0], :]\n",
    "        # Record lat, lon, tropomi ch4, and geos ch4\n",
    "        lat = np.concatenate((lat, obs_GC[:, 3]))\n",
    "        lon = np.concatenate((lon, obs_GC[:, 2]))\n",
    "        tropomi = np.concatenate((tropomi, obs_GC[:, 0]))\n",
    "        geos_prior = np.concatenate((geos_prior, obs_GC[:, 1]))\n",
    "        observation_count = np.concatenate((observation_count, obs_GC[:, 4]))\n",
    "        geos_posterior = np.concatenate((geos_posterior, obs_GC_posterior[:, 1]))\n",
    "\n",
    "    df = pd.DataFrame()\n",
    "    df[\"lat\"] = lat\n",
    "    df[\"lon\"] = lon\n",
    "    df[\"tropomi\"] = tropomi\n",
    "    df[\"geos_prior\"] = geos_prior\n",
    "    df[\"geos_posterior\"] = geos_posterior\n",
    "    df[\"diff_tropomi_prior\"] = geos_prior - tropomi\n",
    "    df[\"diff_tropomi_posterior\"] = geos_posterior - tropomi\n",
    "    df[\"observation_count\"] = observation_count\n",
    "\n",
    "    return df\n",
    "\n",
    "\n",
    "superobs_df = aggregate_data(satdat_dir, posterior_dir)\n",
    "visualization_df = aggregate_data(visualization_dir, posterior_viz_dir)\n",
    "n_obs = len(superobs_df[\"tropomi\"])\n",
    "\n",
    "print(\n",
    "    f'Found {n_obs} super-observations in the domain, representing {np.sum(superobs_df[\"observation_count\"]).round(0)} TROPOMI observations.'\n",
    ")\n",
    "superobs_df.head()"
   ]
  },
  {
   "attachments": {},
   "cell_type": "markdown",
   "metadata": {},
   "source": [
    "Note: This observation count is for the lat/lon bounds defined in input cell 5."
   ]
  },
  {
   "cell_type": "code",
   "execution_count": null,
   "metadata": {},
   "outputs": [],
   "source": [
    "# Print some error statistics\n",
    "print(\n",
    "    \"Bias in prior     :\",\n",
    "    np.round(\n",
    "        np.average(\n",
    "            superobs_df[\"diff_tropomi_prior\"], weights=superobs_df[\"observation_count\"]\n",
    "        ),\n",
    "        2,\n",
    "    ),\n",
    "    \"ppb\",\n",
    ")\n",
    "print(\n",
    "    \"Bias in posterior :\",\n",
    "    np.round(\n",
    "        np.average(\n",
    "            superobs_df[\"diff_tropomi_posterior\"],\n",
    "            weights=superobs_df[\"observation_count\"],\n",
    "        ),\n",
    "        2,\n",
    "    ),\n",
    "    \"ppb\",\n",
    ")\n",
    "print(\n",
    "    \"RMSE prior        :\",\n",
    "    np.round(\n",
    "        np.sqrt(\n",
    "            np.average(\n",
    "                superobs_df[\"diff_tropomi_prior\"] ** 2,\n",
    "                weights=superobs_df[\"observation_count\"],\n",
    "            )\n",
    "        ),\n",
    "        2,\n",
    "    ),\n",
    "    \"ppb\",\n",
    ")\n",
    "print(\n",
    "    \"RMSE posterior    :\",\n",
    "    np.round(\n",
    "        np.sqrt(\n",
    "            np.average(\n",
    "                superobs_df[\"diff_tropomi_posterior\"] ** 2,\n",
    "                weights=superobs_df[\"observation_count\"],\n",
    "            )\n",
    "        ),\n",
    "        2,\n",
    "    ),\n",
    "    \"ppb\",\n",
    ")"
   ]
  },
  {
   "attachments": {},
   "cell_type": "markdown",
   "metadata": {},
   "source": [
    "## Count observations within the region of interest"
   ]
  },
  {
   "cell_type": "code",
   "execution_count": null,
   "metadata": {},
   "outputs": [],
   "source": [
    "print(\"Found\", count_obs_in_mask(mask, superobs_df), \"super-observations within the region of interest\")"
   ]
  },
  {
   "attachments": {},
   "cell_type": "markdown",
   "metadata": {},
   "source": [
    "## Compare TROPOMI and GEOS-Chem columns"
   ]
  },
  {
   "attachments": {},
   "cell_type": "markdown",
   "metadata": {},
   "source": [
    "### Comparison at 0.1 x 0.1 resolution"
   ]
  },
  {
   "cell_type": "code",
   "execution_count": null,
   "metadata": {},
   "outputs": [],
   "source": [
    "# Simple averaging scheme to grid the XCH4 data at 0.1 x 0.1 resolution\n",
    "df_copy = visualization_df.copy()  # save for later\n",
    "visualization_df[\"lat\"] = np.round(visualization_df[\"lat\"], 1)\n",
    "visualization_df[\"lon\"] = np.round(visualization_df[\"lon\"], 1)\n",
    "visualization_df = visualization_df.groupby([\"lat\", \"lon\"]).mean()\n",
    "ds = visualization_df.to_xarray()"
   ]
  },
  {
   "cell_type": "code",
   "execution_count": null,
   "metadata": {},
   "outputs": [],
   "source": [
    "# Mean TROPOMI XCH4 columns on 0.1 x 0.1 grid\n",
    "fig = plt.figure(figsize=(8, 8))\n",
    "ax = fig.subplots(1, 1, subplot_kw={\"projection\": ccrs.PlateCarree()})\n",
    "\n",
    "plot_field(\n",
    "    ax,\n",
    "    ds[\"tropomi\"],\n",
    "    cmap=\"Spectral_r\",\n",
    "    vmin=1800,\n",
    "    vmax=1850,\n",
    "    lon_bounds=lon_bounds,\n",
    "    lat_bounds=lat_bounds,\n",
    "    title=\"TROPOMI $X_{CH4}$\",\n",
    "    cbar_label=\"Column mixing ratio (ppb)\",\n",
    "    mask=mask,\n",
    "    only_ROI=False,\n",
    ")"
   ]
  },
  {
   "cell_type": "code",
   "execution_count": null,
   "metadata": {},
   "outputs": [],
   "source": [
    "# Mean prior and posterior GEOS-Chem XCH4 columns on 0.1 x 0.1 grid\n",
    "fig = plt.figure(figsize=(20, 8))\n",
    "ax1, ax2 = fig.subplots(1, 2, subplot_kw={\"projection\": ccrs.PlateCarree()})\n",
    "\n",
    "plot_field(\n",
    "    ax1,\n",
    "    ds[\"geos_prior\"],\n",
    "    cmap=\"Spectral_r\",\n",
    "    vmin=1800,\n",
    "    vmax=1850,\n",
    "    lon_bounds=lon_bounds,\n",
    "    lat_bounds=lat_bounds,\n",
    "    title=\"GEOS-Chem $X_{CH4}$ (prior simulation)\",\n",
    "    cbar_label=\"Dry column mixing ratio (ppb)\",\n",
    "    mask=mask,\n",
    "    only_ROI=False,\n",
    ")\n",
    "\n",
    "plot_field(\n",
    "    ax2,\n",
    "    ds[\"geos_posterior\"],\n",
    "    cmap=\"Spectral_r\",\n",
    "    vmin=1800,\n",
    "    vmax=1850,\n",
    "    lon_bounds=lon_bounds,\n",
    "    lat_bounds=lat_bounds,\n",
    "    title=\"GEOS-Chem $X_{CH4}$ (posterior simulation)\",\n",
    "    cbar_label=\"Dry column mixing ratio (ppb)\",\n",
    "    mask=mask,\n",
    "    only_ROI=False,\n",
    ")"
   ]
  },
  {
   "cell_type": "code",
   "execution_count": null,
   "metadata": {},
   "outputs": [],
   "source": [
    "# Plot differences between GEOS-Chem and TROPOMI XCH4\n",
    "fig = plt.figure(figsize=(20, 8))\n",
    "ax1, ax2 = fig.subplots(1, 2, subplot_kw={\"projection\": ccrs.PlateCarree()})\n",
    "\n",
    "plot_field(\n",
    "    ax1,\n",
    "    ds[\"diff_tropomi_prior\"],\n",
    "    cmap=\"RdBu_r\",\n",
    "    vmin=-40,\n",
    "    vmax=40,\n",
    "    lon_bounds=lon_bounds,\n",
    "    lat_bounds=lat_bounds,\n",
    "    title=\"Prior $-$ TROPOMI\",\n",
    "    cbar_label=\"ppb\",\n",
    "    mask=mask,\n",
    "    only_ROI=False,\n",
    ")\n",
    "\n",
    "plot_field(\n",
    "    ax2,\n",
    "    ds[\"diff_tropomi_posterior\"],\n",
    "    cmap=\"RdBu_r\",\n",
    "    vmin=-40,\n",
    "    vmax=40,\n",
    "    lon_bounds=lon_bounds,\n",
    "    lat_bounds=lat_bounds,\n",
    "    title=\"Posterior $-$ TROPOMI\",\n",
    "    cbar_label=\"ppb\",\n",
    "    mask=mask,\n",
    "    only_ROI=False,\n",
    ")"
   ]
  },
  {
   "cell_type": "code",
   "execution_count": null,
   "metadata": {},
   "outputs": [],
   "source": [
    "# Plot differences between posterior and prior simulated XCH4\n",
    "fig = plt.figure(figsize=(8, 8))\n",
    "ax = fig.subplots(1, 1, subplot_kw={\"projection\": ccrs.PlateCarree()})\n",
    "\n",
    "diff = ds[\"geos_posterior\"] - ds[\"geos_prior\"]\n",
    "\n",
    "plot_field(\n",
    "    ax,\n",
    "    diff,\n",
    "    cmap=\"seismic\",\n",
    "    vmin=-np.nanmax(diff),\n",
    "    vmax=np.nanmax(diff),\n",
    "    lon_bounds=lon_bounds,\n",
    "    lat_bounds=lat_bounds,\n",
    "    title=\"$\\Delta X_{CH4}$ (Posterior $-$ Prior)\",\n",
    "    cbar_label=\"ppb\",\n",
    "    mask=mask,\n",
    "    only_ROI=False,\n",
    ")"
   ]
  },
  {
   "attachments": {},
   "cell_type": "markdown",
   "metadata": {},
   "source": [
    "### Comparison at 0.25 x 0.3125 resolution"
   ]
  },
  {
   "cell_type": "code",
   "execution_count": null,
   "metadata": {},
   "outputs": [],
   "source": [
    "# Simple averaging scheme to grid the XCH4 data at 0.1 x 0.1 resolution\n",
    "df_copy = superobs_df.copy()  # save for later\n",
    "superobs_df[\"lat\"] = np.round(superobs_df[\"lat\"], 1)\n",
    "superobs_df[\"lon\"] = np.round(superobs_df[\"lon\"], 1)\n",
    "superobs_df = superobs_df.groupby([\"lat\", \"lon\"]).mean()\n",
    "superobs_df = superobs_df.reset_index()"
   ]
  },
  {
   "cell_type": "code",
   "execution_count": null,
   "metadata": {},
   "outputs": [],
   "source": [
    "# Fill in any missing lat/lon coordinates at .1 degree spacing\n",
    "new_lat_values = np.arange(ds[\"lat\"][0], ds[\"lat\"][-1] + 0.1, 0.1)\n",
    "new_lon_values = np.arange(ds[\"lon\"][0], ds[\"lon\"][-1] + 0.1, 0.1)\n",
    "\n",
    "data = []\n",
    "# Iterate through latitude and longitude combinations\n",
    "for lat in new_lat_values:\n",
    "    for lon in new_lon_values:\n",
    "        data.append({\"lat\": lat, \"lon\": lon, \"value\": None})\n",
    "\n",
    "# Create a new DataFrame from the data\n",
    "df_temp = pd.DataFrame(data)\n",
    "\n",
    "# ensure matching sigfigs with superobs_df\n",
    "df_temp[\"lat\"] = np.round(df_temp[\"lat\"], 1)\n",
    "df_temp[\"lon\"] = np.round(df_temp[\"lon\"], 1)\n",
    "\n",
    "# merge the two dataframes and drop the filler column\n",
    "# then convert to xarray dataset\n",
    "merged_df = pd.merge(df_temp, superobs_df, on=[\"lat\", \"lon\"], how=\"left\").drop(\n",
    "    columns=[\"value\"]\n",
    ")\n",
    "ds = xr.Dataset.from_dataframe(merged_df.set_index([\"lat\", \"lon\"]))"
   ]
  },
  {
   "cell_type": "code",
   "execution_count": null,
   "metadata": {},
   "outputs": [],
   "source": [
    "# calculate the grid bounds for .1x.1 grid\n",
    "lat_b = np.arange(ds[\"lat\"][0] - 0.05, ds[\"lat\"][-1] + 0.1, 0.1)\n",
    "lon_b = np.arange(ds[\"lon\"][0] - 0.05, ds[\"lon\"][-1] + 0.1, 0.1)\n",
    "ds = ds.assign_coords(lon_b=(\"lon_b\", lon_b))\n",
    "ds = ds.assign_coords(lat_b=(\"lat_b\", lat_b))\n",
    "ds[\"mask\"] = xr.where(~np.isnan(ds[\"tropomi\"]), 1, 0)"
   ]
  },
  {
   "cell_type": "code",
   "execution_count": null,
   "metadata": {},
   "outputs": [],
   "source": [
    "# Global 0.25 x 0.3125 grid\n",
    "reference_lat_grid = np.arange(-90, 90 + 0.25, 0.25)\n",
    "reference_lon_grid = np.arange(-180, 180 + 0.3125, 0.3125)\n",
    "\n",
    "# Find closest reference coordinates to selected lat/lon bounds\n",
    "lat_min = reference_lat_grid[np.abs(reference_lat_grid - lat_bounds[0]).argmin()]\n",
    "lon_min = reference_lon_grid[np.abs(reference_lon_grid - lon_bounds[0]).argmin()]\n",
    "lat_max = reference_lat_grid[np.abs(reference_lat_grid - lat_bounds[1]).argmin()]\n",
    "lon_max = reference_lon_grid[np.abs(reference_lon_grid - lon_bounds[1]).argmin()]\n",
    "\n",
    "# Create an xESMF regridder object to resample the data on the grid HEMCO expects\n",
    "new_lat_grid = np.arange(lat_min, lat_max + 0.25, 0.25)\n",
    "new_lon_grid = np.arange(lon_min, lon_max + 0.3125, 0.3125)\n",
    "new_lat_b = np.arange(new_lat_grid[0] - 0.125, new_lat_grid[-1] + 0.25, 0.25)\n",
    "new_lon_b = np.arange(new_lon_grid[0] - 0.15625, new_lon_grid[-1] + 0.3125, 0.3125)\n",
    "ds_out = xr.Dataset(\n",
    "    {\n",
    "        \"lat\": ([\"lat\"], new_lat_grid),\n",
    "        \"lon\": ([\"lon\"], new_lon_grid),\n",
    "        \"lat_b\": ([\"lat_b\"], new_lat_b),\n",
    "        \"lon_b\": ([\"lon_b\"], new_lon_b),\n",
    "    }\n",
    ")\n",
    "\n",
    "regridder = xe.Regridder(ds, ds_out, \"conservative_normed\")"
   ]
  },
  {
   "cell_type": "code",
   "execution_count": null,
   "metadata": {},
   "outputs": [],
   "source": [
    "# Regrid the data\n",
    "ds_regrid = regridder(ds)\n"
   ]
  },
  {
   "cell_type": "code",
   "execution_count": null,
   "metadata": {},
   "outputs": [],
   "source": [
    "# Re-plot differences between GEOS-Chem and TROPOMI XCH4\n",
    "fig = plt.figure(figsize=(20, 8))\n",
    "ax1, ax2 = fig.subplots(1, 2, subplot_kw={\"projection\": ccrs.PlateCarree()})\n",
    "\n",
    "plot_field(\n",
    "    ax1,\n",
    "    ds_regrid[\"diff_tropomi_prior\"],\n",
    "    cmap=\"RdBu_r\",\n",
    "    vmin=-25,\n",
    "    vmax=25,\n",
    "    lon_bounds=lon_bounds,\n",
    "    lat_bounds=lat_bounds,\n",
    "    title=\"Prior $-$ TROPOMI\",\n",
    "    cbar_label=\"ppb\",\n",
    "    mask=mask,\n",
    "    only_ROI=False,\n",
    ")\n",
    "\n",
    "plot_field(\n",
    "    ax2,\n",
    "    ds_regrid[\"diff_tropomi_posterior\"],\n",
    "    cmap=\"RdBu_r\",\n",
    "    vmin=-25,\n",
    "    vmax=25,\n",
    "    lon_bounds=lon_bounds,\n",
    "    lat_bounds=lat_bounds,\n",
    "    title=\"Posterior $-$ TROPOMI\",\n",
    "    cbar_label=\"ppb\",\n",
    "    mask=mask,\n",
    "    only_ROI=False,\n",
    ")"
   ]
  },
  {
   "cell_type": "code",
   "execution_count": null,
   "metadata": {},
   "outputs": [],
   "source": [
    "# Re-plot differences between posterior and prior simulated XCH4\n",
    "fig = plt.figure(figsize=(8, 8))\n",
    "ax = fig.subplots(1, 1, subplot_kw={\"projection\": ccrs.PlateCarree()})\n",
    "\n",
    "diff_regrid = ds_regrid[\"geos_posterior\"] - ds_regrid[\"geos_prior\"]\n",
    "\n",
    "plot_field(\n",
    "    ax,\n",
    "    diff_regrid,\n",
    "    cmap=\"seismic\",\n",
    "    vmin=-np.nanmax(diff_regrid),\n",
    "    vmax=np.nanmax(diff_regrid),\n",
    "    lon_bounds=lon_bounds,\n",
    "    lat_bounds=lat_bounds,\n",
    "    title=\"Posterior $-$ Prior\",\n",
    "    cbar_label=\"ppb\",\n",
    "    mask=mask,\n",
    "    only_ROI=False,\n",
    ")"
   ]
  },
  {
   "attachments": {},
   "cell_type": "markdown",
   "metadata": {},
   "source": [
    "----"
   ]
  }
 ],
 "metadata": {
  "kernelspec": {
   "display_name": "Python 3.10.6 64-bit",
   "language": "python",
   "name": "python3"
  },
  "language_info": {
   "codemirror_mode": {
    "name": "ipython",
    "version": 3
   },
   "file_extension": ".py",
   "mimetype": "text/x-python",
   "name": "python",
   "nbconvert_exporter": "python",
   "pygments_lexer": "ipython3",
   "version": "3.9.7"
  },
  "vscode": {
   "interpreter": {
    "hash": "b0fa6594d8f4cbf19f97940f81e996739fb7646882a419484c72d19e05852a7e"
   }
  }
 },
 "nbformat": 4,
 "nbformat_minor": 4
}
