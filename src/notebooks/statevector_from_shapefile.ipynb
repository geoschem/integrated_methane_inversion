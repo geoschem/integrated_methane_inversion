{
 "cells": [
  {
   "cell_type": "markdown",
   "metadata": {},
   "source": [
    "# Generate state vector netcdf file from shape file"
   ]
  },
  {
   "cell_type": "markdown",
   "metadata": {},
   "source": [
    "Use this notebook to create an IMI state vector file for an irregular region of interest using a shape file for the region.\n",
    "\n",
    "- Step 1: Upload the shape file to EC2\n",
    "- Step 2: Copy the path to the shape file into the configuration file (config.yml)\n",
    "- Step 3: Open this notebook (instructions: https://docs.aws.amazon.com/dlami/latest/devguide/setup-jupyter.html)\n",
    "- Step 4: Run the notebook\n",
    "- Step 5: When satisfied with the state vector, set save switch in final cell to True and save the netcdf\n",
    "\n",
    "Example here is for the Permian Basin."
   ]
  },
  {
   "cell_type": "code",
   "execution_count": 1,
   "metadata": {},
   "outputs": [],
   "source": [
    "import sys\n",
    "import xarray as xr \n",
    "import numpy as np\n",
    "import regionmask\n",
    "import xesmf as xe\n",
    "import geopandas as gpd\n",
    "import pandas as pd\n",
    "import cartopy.crs as ccrs\n",
    "from sklearn.cluster import KMeans\n",
    "import colorcet as cc\n",
    "import matplotlib.pyplot as plt\n",
    "import yaml\n",
    "import warnings; warnings.filterwarnings(action='ignore')\n",
    "sys.path.append('/home/ubuntu/integrated_methane_inversion/src/')\n",
    "from utilities.utils import download_landcover_files\n",
    "%matplotlib inline"
   ]
  },
  {
   "cell_type": "markdown",
   "metadata": {},
   "source": [
    "## Setup"
   ]
  },
  {
   "cell_type": "code",
   "execution_count": 2,
   "metadata": {},
   "outputs": [],
   "source": [
    "# Read config file\n",
    "config = yaml.load(open(\"/home/ubuntu/integrated_methane_inversion/config.yml\"), Loader=yaml.FullLoader)"
   ]
  },
  {
   "cell_type": "code",
   "execution_count": null,
   "metadata": {},
   "outputs": [],
   "source": [
    "# Download landcover files from s3 if not already present\n",
    "download_landcover_files(config)"
   ]
  },
  {
   "cell_type": "code",
   "execution_count": 3,
   "metadata": {},
   "outputs": [],
   "source": [
    "# Set longitude and latitude bounds for inversion domain\n",
    "lon_min = config['LonMinCustomStateVector']\n",
    "lon_max = config['LonMaxCustomStateVector']\n",
    "lat_min = config['LatMinCustomStateVector']\n",
    "lat_max = config['LatMaxCustomStateVector']\n",
    "\n",
    "# Create lat/lon grid\n",
    "dlon = 0.1\n",
    "dlat = 0.1\n",
    "lon = np.arange(lon_min, lon_max+dlon, dlon)\n",
    "lat = np.arange(lat_min, lat_max+dlat, dlat)\n",
    "\n",
    "# Inversion spatial resolution\n",
    "if config['Res'] == '0.25x0.3125':\n",
    "    lat_res = 0.25\n",
    "    lon_res = 0.3125\n",
    "elif config['Res'] == '0.5x0.625':\n",
    "    lat_res = 0.5\n",
    "    lon_res = 0.625"
   ]
  },
  {
   "cell_type": "markdown",
   "metadata": {},
   "source": [
    "## Create region of interest mask from shape file"
   ]
  },
  {
   "cell_type": "code",
   "execution_count": 4,
   "metadata": {},
   "outputs": [
    {
     "data": {
      "text/html": [
       "<div>\n",
       "<style scoped>\n",
       "    .dataframe tbody tr th:only-of-type {\n",
       "        vertical-align: middle;\n",
       "    }\n",
       "\n",
       "    .dataframe tbody tr th {\n",
       "        vertical-align: top;\n",
       "    }\n",
       "\n",
       "    .dataframe thead th {\n",
       "        text-align: right;\n",
       "    }\n",
       "</style>\n",
       "<table border=\"1\" class=\"dataframe\">\n",
       "  <thead>\n",
       "    <tr style=\"text-align: right;\">\n",
       "      <th></th>\n",
       "      <th>geometry</th>\n",
       "    </tr>\n",
       "  </thead>\n",
       "  <tbody>\n",
       "    <tr>\n",
       "      <th>0</th>\n",
       "      <td>POLYGON ((-100.54152 33.84438, -100.50482 33.6...</td>\n",
       "    </tr>\n",
       "  </tbody>\n",
       "</table>\n",
       "</div>"
      ],
      "text/plain": [
       "                                            geometry\n",
       "0  POLYGON ((-100.54152 33.84438, -100.50482 33.6..."
      ]
     },
     "execution_count": 4,
     "metadata": {},
     "output_type": "execute_result"
    }
   ],
   "source": [
    "# Open shape file with geopandas\n",
    "shape = gpd.read_file(config['ShapeFile'])\n",
    "shape"
   ]
  },
  {
   "cell_type": "code",
   "execution_count": 5,
   "metadata": {},
   "outputs": [
    {
     "data": {
      "image/png": "[encoded data removed]",
      "text/plain": [
       "<Figure size 432x288 with 2 Axes>"
      ]
     },
     "metadata": {
      "needs_background": "light"
     },
     "output_type": "display_data"
    }
   ],
   "source": [
    "# Make mask from shape file\n",
    "mask = regionmask.mask_geopandas(shape, lon, lat) + 1 # Add 1 so the mask values are 1 instead of 0\n",
    "\n",
    "# View the mask in the inversion domain\n",
    "f, ax = plt.subplots(subplot_kw=dict(projection=ccrs.PlateCarree()))\n",
    "mask.plot(\n",
    "    ax=ax,\n",
    "    transform=ccrs.PlateCarree(),\n",
    "    add_colorbar=True,\n",
    ")\n",
    "ax.coastlines();"
   ]
  },
  {
   "cell_type": "markdown",
   "metadata": {},
   "source": [
    "## Regrid mask to 0.25 x 0.3125 or 0.5x0.625 grid"
   ]
  },
  {
   "cell_type": "code",
   "execution_count": 6,
   "metadata": {},
   "outputs": [
    {
     "data": {
      "text/plain": [
       "xESMF Regridder \n",
       "Regridding algorithm:       nearest_s2d \n",
       "Weight filename:            nearest_s2d_151x161_61x52.nc \n",
       "Reuse pre-computed weights? False \n",
       "Input grid shape:           (151, 161) \n",
       "Output grid shape:          (61, 52) \n",
       "Periodic in longitude?      False"
      ]
     },
     "execution_count": 6,
     "metadata": {},
     "output_type": "execute_result"
    }
   ],
   "source": [
    "# Need to regrid to the grid HEMCO expects\n",
    "reference_lat_grid = np.arange(-90 , 90+lat_res , lat_res)\n",
    "reference_lon_grid = np.arange(-180, 180+lon_res, lon_res)\n",
    "\n",
    "# Find closest reference coordinates to selected lat/lon bounds\n",
    "lat_min = reference_lat_grid[np.abs(reference_lat_grid - lat_min).argmin()]\n",
    "lon_min = reference_lon_grid[np.abs(reference_lon_grid - lon_min).argmin()]\n",
    "lat_max = reference_lat_grid[np.abs(reference_lat_grid - lat_max).argmin()]\n",
    "lon_max = reference_lon_grid[np.abs(reference_lon_grid - lon_max).argmin()]\n",
    "\n",
    "# Create an xESMF regridder object to resample the mask on the grid HEMCO expects\n",
    "new_lat_grid = np.arange(lat_min, lat_max+lat_res, lat_res)\n",
    "new_lon_grid = np.arange(lon_min, lon_max+lon_res, lon_res)\n",
    "ds_out = xr.Dataset({'lat': (['lat'], new_lat_grid),\n",
    "                     'lon': (['lon'], new_lon_grid),\n",
    "                    }\n",
    "                   )\n",
    "#ds_out = ds_out.rename({'longitude': 'lon', 'latitude': 'lat'})\n",
    "\n",
    "regridder = xe.Regridder(mask, ds_out, 'nearest_s2d')\n",
    "regridder"
   ]
  },
  {
   "cell_type": "code",
   "execution_count": 7,
   "metadata": {},
   "outputs": [
    {
     "data": {
      "image/png": "[encoded data removed]",
      "text/plain": [
       "<Figure size 432x288 with 1 Axes>"
      ]
     },
     "metadata": {
      "needs_background": "light"
     },
     "output_type": "display_data"
    }
   ],
   "source": [
    "# Regrid the mask\n",
    "mask = regridder(mask)\n",
    "\n",
    "# View the regridded mask in the inversion domain\n",
    "f, ax = plt.subplots(subplot_kw=dict(projection=ccrs.PlateCarree()))\n",
    "mask.plot(\n",
    "    ax=ax,\n",
    "    transform=ccrs.PlateCarree(),\n",
    "    add_colorbar=False,\n",
    ")\n",
    "ax.coastlines();"
   ]
  },
  {
   "cell_type": "markdown",
   "metadata": {},
   "source": [
    "## Deal with buffer areas and pixels over water"
   ]
  },
  {
   "cell_type": "code",
   "execution_count": 8,
   "metadata": {},
   "outputs": [],
   "source": [
    "state_vector = mask.copy()\n",
    "\n",
    "# Set pixels in buffer areas to 0\n",
    "state_vector.values[mask.isnull()] = 0\n",
    "state_vector.values[mask.isnull()] = 0"
   ]
  },
  {
   "cell_type": "code",
   "execution_count": 9,
   "metadata": {},
   "outputs": [],
   "source": [
    "# Get path to land cover file\n",
    "if config['Met'] == 'geosfp':\n",
    "    met_token1 = 'GEOSFP'\n",
    "    met_token2 = 'GEOS_FP'\n",
    "    constYr = 2011\n",
    "    gridRes = '025x03125'\n",
    "elif config['Met'] == 'merra2':\n",
    "    met_token1 = 'MERRA2'\n",
    "    met_token2 = 'MERRA2'\n",
    "    constYr = 2015\n",
    "    gridRes = '05x0625'\n",
    "\n",
    "gridDir = f'{config[\"Res\"]}_{config[\"REGION\"]}'\n",
    "land_cover_file = f'{met_token1}.{constYr}0101.CN.{gridRes}.{config[\"REGION\"]}.nc'\n",
    "land_cover_pth = f'/home/ubuntu/ExtData/GEOS_{gridDir}/{met_token2}/{constYr}/01/{land_cover_file}'"
   ]
  },
  {
   "cell_type": "code",
   "execution_count": 10,
   "metadata": {},
   "outputs": [],
   "source": [
    "# Load land cover data\n",
    "lc = xr.load_dataset(land_cover_pth)\n",
    "\n",
    "# Group together\n",
    "lc = (lc['FRLAKE'] + lc['FRLAND'] + lc['FRLANDIC']).drop('time').squeeze()\n",
    "    \n",
    "# Subset the area of interest\n",
    "lc = lc.isel(lon=lc.lon>=lon_min, lat=lc.lat>=lat_min)\n",
    "lc = lc.isel(lon=lc.lon<=lon_max, lat=lc.lat<=lat_max)\n",
    "\n",
    "# Set pixels over water to 0\n",
    "if config['LandThreshold']:\n",
    "    # Where there is no land, replace with 0\n",
    "    land = lc.where(lc > config['LandThreshold'])\n",
    "    state_vector.values[land.isnull()] = 0"
   ]
  },
  {
   "cell_type": "markdown",
   "metadata": {},
   "source": [
    "## Label the state vector elements"
   ]
  },
  {
   "cell_type": "code",
   "execution_count": 11,
   "metadata": {},
   "outputs": [
    {
     "data": {
      "image/png": "[encoded data removed]",
      "text/plain": [
       "<Figure size 432x288 with 1 Axes>"
      ]
     },
     "metadata": {
      "needs_background": "light"
     },
     "output_type": "display_data"
    }
   ],
   "source": [
    "# Enumerate state vector elements\n",
    "n_lat = len(new_lat_grid)\n",
    "n_lon = len(new_lon_grid)\n",
    "count = 1\n",
    "for r in range(n_lat):\n",
    "    for c in range(n_lon):\n",
    "        if state_vector[r,c] == 1:\n",
    "            state_vector[r,c] = count\n",
    "            count += 1\n",
    "\n",
    "# Now set pixels over water to NaN\n",
    "if config['LandThreshold']:\n",
    "    # Where there is no land, replace with NaN\n",
    "    state_vector = state_vector.where(lc > config['LandThreshold'])\n",
    "            \n",
    "# Plot\n",
    "f, ax = plt.subplots(subplot_kw=dict(projection=ccrs.PlateCarree()))\n",
    "state_vector.plot(\n",
    "    ax=ax,\n",
    "    transform=ccrs.PlateCarree(),\n",
    "    cmap=cc.cm.glasbey,\n",
    "    add_colorbar=False,\n",
    ")\n",
    "ax.coastlines();"
   ]
  },
  {
   "cell_type": "markdown",
   "metadata": {},
   "source": [
    "## Label the buffer clusters"
   ]
  },
  {
   "cell_type": "code",
   "execution_count": 12,
   "metadata": {},
   "outputs": [
    {
     "data": {
      "image/png": "[encoded data removed]",
      "text/plain": [
       "<Figure size 432x288 with 1 Axes>"
      ]
     },
     "metadata": {
      "needs_background": "light"
     },
     "output_type": "display_data"
    }
   ],
   "source": [
    "# Add buffer elements\n",
    "buffer_elements = np.abs((mask > 0) - 1).values\n",
    "\n",
    "# Get image coordinates of buffer elements\n",
    "irows = np.arange(buffer_elements.shape[0])\n",
    "icols = np.arange(buffer_elements.shape[1])\n",
    "irows = np.transpose(np.tile(irows,(len(icols),1)))\n",
    "icols = np.tile(icols,(len(irows),1)) * (buffer_elements > 0)\n",
    "\n",
    "# Select image coordinates of buffer elements\n",
    "irows_buffer = irows[buffer_elements > 0]\n",
    "icols_buffer = icols[buffer_elements > 0]\n",
    "coords = [[icols_buffer[j], irows_buffer[j]] for j in range(len(irows_buffer))]\n",
    "\n",
    "# Kmeans based on image coordinates\n",
    "X = np.array(coords)\n",
    "kmeans = KMeans(n_clusters=config['nBufferClusters'], random_state=0).fit(X)\n",
    "\n",
    "# Assign labels\n",
    "for r in range(n_lat):\n",
    "    for c in range(n_lon):\n",
    "        if state_vector[r,c].values == 0:\n",
    "            state_vector[r,c] = kmeans.predict([[c,r]])[0] + count\n",
    "\n",
    "# Add units attribute\n",
    "state_vector.attrs['units'] = 'none'\n",
    "state_vector\n",
    "            \n",
    "# Plot\n",
    "f, ax = plt.subplots(subplot_kw=dict(projection=ccrs.PlateCarree()))\n",
    "state_vector.plot(\n",
    "    ax=ax,\n",
    "    transform=ccrs.PlateCarree(),\n",
    "    cmap=cc.cm.glasbey,\n",
    "    add_colorbar=False,\n",
    ")\n",
    "ax.coastlines();"
   ]
  },
  {
   "cell_type": "code",
   "execution_count": 13,
   "metadata": {},
   "outputs": [],
   "source": [
    "# Now set pixels over water to missing_value = -9999\n",
    "if config['LandThreshold']:\n",
    "    state_vector.values[state_vector.isnull()] = -9999"
   ]
  },
  {
   "cell_type": "markdown",
   "metadata": {},
   "source": [
    "## Save the state vector to netcdf"
   ]
  },
  {
   "cell_type": "code",
   "execution_count": 14,
   "metadata": {},
   "outputs": [
    {
     "data": {
      "text/html": [
       "<div><svg style=\"position: absolute; width: 0; height: 0; overflow: hidden\">\n",
       "<defs>\n",
       "<symbol id=\"icon-database\" viewBox=\"0 0 32 32\">\n",
       "<path d=\"M16 0c-8.837 0-16 2.239-16 5v4c0 2.761 7.163 5 16 5s16-2.239 16-5v-4c0-2.761-7.163-5-16-5z\"></path>\n",
       "<path d=\"M16 17c-8.837 0-16-2.239-16-5v6c0 2.761 7.163 5 16 5s16-2.239 16-5v-6c0 2.761-7.163 5-16 5z\"></path>\n",
       "<path d=\"M16 26c-8.837 0-16-2.239-16-5v6c0 2.761 7.163 5 16 5s16-2.239 16-5v-6c0 2.761-7.163 5-16 5z\"></path>\n",
       "</symbol>\n",
       "<symbol id=\"icon-file-text2\" viewBox=\"0 0 32 32\">\n",
       "<path d=\"M28.681 7.159c-0.694-0.947-1.662-2.053-2.724-3.116s-2.169-2.030-3.116-2.724c-1.612-1.182-2.393-1.319-2.841-1.319h-15.5c-1.378 0-2.5 1.121-2.5 2.5v27c0 1.378 1.122 2.5 2.5 2.5h23c1.378 0 2.5-1.122 2.5-2.5v-19.5c0-0.448-0.137-1.23-1.319-2.841zM24.543 5.457c0.959 0.959 1.712 1.825 2.268 2.543h-4.811v-4.811c0.718 0.556 1.584 1.309 2.543 2.268zM28 29.5c0 0.271-0.229 0.5-0.5 0.5h-23c-0.271 0-0.5-0.229-0.5-0.5v-27c0-0.271 0.229-0.5 0.5-0.5 0 0 15.499-0 15.5 0v7c0 0.552 0.448 1 1 1h7v19.5z\"></path>\n",
       "<path d=\"M23 26h-14c-0.552 0-1-0.448-1-1s0.448-1 1-1h14c0.552 0 1 0.448 1 1s-0.448 1-1 1z\"></path>\n",
       "<path d=\"M23 22h-14c-0.552 0-1-0.448-1-1s0.448-1 1-1h14c0.552 0 1 0.448 1 1s-0.448 1-1 1z\"></path>\n",
       "<path d=\"M23 18h-14c-0.552 0-1-0.448-1-1s0.448-1 1-1h14c0.552 0 1 0.448 1 1s-0.448 1-1 1z\"></path>\n",
       "</symbol>\n",
       "</defs>\n",
       "</svg>\n",
       "<style>/* CSS stylesheet for displaying xarray objects in jupyterlab.\n",
       " *\n",
       " */\n",
       "\n",
       ":root {\n",
       "  --xr-font-color0: var(--jp-content-font-color0, rgba(0, 0, 0, 1));\n",
       "  --xr-font-color2: var(--jp-content-font-color2, rgba(0, 0, 0, 0.54));\n",
       "  --xr-font-color3: var(--jp-content-font-color3, rgba(0, 0, 0, 0.38));\n",
       "  --xr-border-color: var(--jp-border-color2, #e0e0e0);\n",
       "  --xr-disabled-color: var(--jp-layout-color3, #bdbdbd);\n",
       "  --xr-background-color: var(--jp-layout-color0, white);\n",
       "  --xr-background-color-row-even: var(--jp-layout-color1, white);\n",
       "  --xr-background-color-row-odd: var(--jp-layout-color2, #eeeeee);\n",
       "}\n",
       "\n",
       "html[theme=dark],\n",
       "body.vscode-dark {\n",
       "  --xr-font-color0: rgba(255, 255, 255, 1);\n",
       "  --xr-font-color2: rgba(255, 255, 255, 0.54);\n",
       "  --xr-font-color3: rgba(255, 255, 255, 0.38);\n",
       "  --xr-border-color: #1F1F1F;\n",
       "  --xr-disabled-color: #515151;\n",
       "  --xr-background-color: #111111;\n",
       "  --xr-background-color-row-even: #111111;\n",
       "  --xr-background-color-row-odd: #313131;\n",
       "}\n",
       "\n",
       ".xr-wrap {\n",
       "  display: block;\n",
       "  min-width: 300px;\n",
       "  max-width: 700px;\n",
       "}\n",
       "\n",
       ".xr-text-repr-fallback {\n",
       "  /* fallback to plain text repr when CSS is not injected (untrusted notebook) */\n",
       "  display: none;\n",
       "}\n",
       "\n",
       ".xr-header {\n",
       "  padding-top: 6px;\n",
       "  padding-bottom: 6px;\n",
       "  margin-bottom: 4px;\n",
       "  border-bottom: solid 1px var(--xr-border-color);\n",
       "}\n",
       "\n",
       ".xr-header > div,\n",
       ".xr-header > ul {\n",
       "  display: inline;\n",
       "  margin-top: 0;\n",
       "  margin-bottom: 0;\n",
       "}\n",
       "\n",
       ".xr-obj-type,\n",
       ".xr-array-name {\n",
       "  margin-left: 2px;\n",
       "  margin-right: 10px;\n",
       "}\n",
       "\n",
       ".xr-obj-type {\n",
       "  color: var(--xr-font-color2);\n",
       "}\n",
       "\n",
       ".xr-sections {\n",
       "  padding-left: 0 !important;\n",
       "  display: grid;\n",
       "  grid-template-columns: 150px auto auto 1fr 20px 20px;\n",
       "}\n",
       "\n",
       ".xr-section-item {\n",
       "  display: contents;\n",
       "}\n",
       "\n",
       ".xr-section-item input {\n",
       "  display: none;\n",
       "}\n",
       "\n",
       ".xr-section-item input + label {\n",
       "  color: var(--xr-disabled-color);\n",
       "}\n",
       "\n",
       ".xr-section-item input:enabled + label {\n",
       "  cursor: pointer;\n",
       "  color: var(--xr-font-color2);\n",
       "}\n",
       "\n",
       ".xr-section-item input:enabled + label:hover {\n",
       "  color: var(--xr-font-color0);\n",
       "}\n",
       "\n",
       ".xr-section-summary {\n",
       "  grid-column: 1;\n",
       "  color: var(--xr-font-color2);\n",
       "  font-weight: 500;\n",
       "}\n",
       "\n",
       ".xr-section-summary > span {\n",
       "  display: inline-block;\n",
       "  padding-left: 0.5em;\n",
       "}\n",
       "\n",
       ".xr-section-summary-in:disabled + label {\n",
       "  color: var(--xr-font-color2);\n",
       "}\n",
       "\n",
       ".xr-section-summary-in + label:before {\n",
       "  display: inline-block;\n",
       "  content: '►';\n",
       "  font-size: 11px;\n",
       "  width: 15px;\n",
       "  text-align: center;\n",
       "}\n",
       "\n",
       ".xr-section-summary-in:disabled + label:before {\n",
       "  color: var(--xr-disabled-color);\n",
       "}\n",
       "\n",
       ".xr-section-summary-in:checked + label:before {\n",
       "  content: '▼';\n",
       "}\n",
       "\n",
       ".xr-section-summary-in:checked + label > span {\n",
       "  display: none;\n",
       "}\n",
       "\n",
       ".xr-section-summary,\n",
       ".xr-section-inline-details {\n",
       "  padding-top: 4px;\n",
       "  padding-bottom: 4px;\n",
       "}\n",
       "\n",
       ".xr-section-inline-details {\n",
       "  grid-column: 2 / -1;\n",
       "}\n",
       "\n",
       ".xr-section-details {\n",
       "  display: none;\n",
       "  grid-column: 1 / -1;\n",
       "  margin-bottom: 5px;\n",
       "}\n",
       "\n",
       ".xr-section-summary-in:checked ~ .xr-section-details {\n",
       "  display: contents;\n",
       "}\n",
       "\n",
       ".xr-array-wrap {\n",
       "  grid-column: 1 / -1;\n",
       "  display: grid;\n",
       "  grid-template-columns: 20px auto;\n",
       "}\n",
       "\n",
       ".xr-array-wrap > label {\n",
       "  grid-column: 1;\n",
       "  vertical-align: top;\n",
       "}\n",
       "\n",
       ".xr-preview {\n",
       "  color: var(--xr-font-color3);\n",
       "}\n",
       "\n",
       ".xr-array-preview,\n",
       ".xr-array-data {\n",
       "  padding: 0 5px !important;\n",
       "  grid-column: 2;\n",
       "}\n",
       "\n",
       ".xr-array-data,\n",
       ".xr-array-in:checked ~ .xr-array-preview {\n",
       "  display: none;\n",
       "}\n",
       "\n",
       ".xr-array-in:checked ~ .xr-array-data,\n",
       ".xr-array-preview {\n",
       "  display: inline-block;\n",
       "}\n",
       "\n",
       ".xr-dim-list {\n",
       "  display: inline-block !important;\n",
       "  list-style: none;\n",
       "  padding: 0 !important;\n",
       "  margin: 0;\n",
       "}\n",
       "\n",
       ".xr-dim-list li {\n",
       "  display: inline-block;\n",
       "  padding: 0;\n",
       "  margin: 0;\n",
       "}\n",
       "\n",
       ".xr-dim-list:before {\n",
       "  content: '(';\n",
       "}\n",
       "\n",
       ".xr-dim-list:after {\n",
       "  content: ')';\n",
       "}\n",
       "\n",
       ".xr-dim-list li:not(:last-child):after {\n",
       "  content: ',';\n",
       "  padding-right: 5px;\n",
       "}\n",
       "\n",
       ".xr-has-index {\n",
       "  font-weight: bold;\n",
       "}\n",
       "\n",
       ".xr-var-list,\n",
       ".xr-var-item {\n",
       "  display: contents;\n",
       "}\n",
       "\n",
       ".xr-var-item > div,\n",
       ".xr-var-item label,\n",
       ".xr-var-item > .xr-var-name span {\n",
       "  background-color: var(--xr-background-color-row-even);\n",
       "  margin-bottom: 0;\n",
       "}\n",
       "\n",
       ".xr-var-item > .xr-var-name:hover span {\n",
       "  padding-right: 5px;\n",
       "}\n",
       "\n",
       ".xr-var-list > li:nth-child(odd) > div,\n",
       ".xr-var-list > li:nth-child(odd) > label,\n",
       ".xr-var-list > li:nth-child(odd) > .xr-var-name span {\n",
       "  background-color: var(--xr-background-color-row-odd);\n",
       "}\n",
       "\n",
       ".xr-var-name {\n",
       "  grid-column: 1;\n",
       "}\n",
       "\n",
       ".xr-var-dims {\n",
       "  grid-column: 2;\n",
       "}\n",
       "\n",
       ".xr-var-dtype {\n",
       "  grid-column: 3;\n",
       "  text-align: right;\n",
       "  color: var(--xr-font-color2);\n",
       "}\n",
       "\n",
       ".xr-var-preview {\n",
       "  grid-column: 4;\n",
       "}\n",
       "\n",
       ".xr-var-name,\n",
       ".xr-var-dims,\n",
       ".xr-var-dtype,\n",
       ".xr-preview,\n",
       ".xr-attrs dt {\n",
       "  white-space: nowrap;\n",
       "  overflow: hidden;\n",
       "  text-overflow: ellipsis;\n",
       "  padding-right: 10px;\n",
       "}\n",
       "\n",
       ".xr-var-name:hover,\n",
       ".xr-var-dims:hover,\n",
       ".xr-var-dtype:hover,\n",
       ".xr-attrs dt:hover {\n",
       "  overflow: visible;\n",
       "  width: auto;\n",
       "  z-index: 1;\n",
       "}\n",
       "\n",
       ".xr-var-attrs,\n",
       ".xr-var-data {\n",
       "  display: none;\n",
       "  background-color: var(--xr-background-color) !important;\n",
       "  padding-bottom: 5px !important;\n",
       "}\n",
       "\n",
       ".xr-var-attrs-in:checked ~ .xr-var-attrs,\n",
       ".xr-var-data-in:checked ~ .xr-var-data {\n",
       "  display: block;\n",
       "}\n",
       "\n",
       ".xr-var-data > table {\n",
       "  float: right;\n",
       "}\n",
       "\n",
       ".xr-var-name span,\n",
       ".xr-var-data,\n",
       ".xr-attrs {\n",
       "  padding-left: 25px !important;\n",
       "}\n",
       "\n",
       ".xr-attrs,\n",
       ".xr-var-attrs,\n",
       ".xr-var-data {\n",
       "  grid-column: 1 / -1;\n",
       "}\n",
       "\n",
       "dl.xr-attrs {\n",
       "  padding: 0;\n",
       "  margin: 0;\n",
       "  display: grid;\n",
       "  grid-template-columns: 125px auto;\n",
       "}\n",
       "\n",
       ".xr-attrs dt,\n",
       ".xr-attrs dd {\n",
       "  padding: 0;\n",
       "  margin: 0;\n",
       "  float: left;\n",
       "  padding-right: 10px;\n",
       "  width: auto;\n",
       "}\n",
       "\n",
       ".xr-attrs dt {\n",
       "  font-weight: normal;\n",
       "  grid-column: 1;\n",
       "}\n",
       "\n",
       ".xr-attrs dt:hover span {\n",
       "  display: inline-block;\n",
       "  background: var(--xr-background-color);\n",
       "  padding-right: 10px;\n",
       "}\n",
       "\n",
       ".xr-attrs dd {\n",
       "  grid-column: 2;\n",
       "  white-space: pre-wrap;\n",
       "  word-break: break-all;\n",
       "}\n",
       "\n",
       ".xr-icon-database,\n",
       ".xr-icon-file-text2 {\n",
       "  display: inline-block;\n",
       "  vertical-align: middle;\n",
       "  width: 1em;\n",
       "  height: 1.5em !important;\n",
       "  stroke-width: 0;\n",
       "  stroke: currentColor;\n",
       "  fill: currentColor;\n",
       "}\n",
       "</style><pre class='xr-text-repr-fallback'>&lt;xarray.Dataset&gt;\n",
       "Dimensions:      (lat: 61, lon: 52)\n",
       "Coordinates:\n",
       "  * lon          (lon) float64 -110.9 -110.6 -110.3 ... -95.62 -95.31 -95.0\n",
       "  * lat          (lat) float64 24.0 24.25 24.5 24.75 ... 38.25 38.5 38.75 39.0\n",
       "Data variables:\n",
       "    StateVector  (lat, lon) float64 204.0 204.0 204.0 ... 200.0 200.0 200.0</pre><div class='xr-wrap' hidden><div class='xr-header'><div class='xr-obj-type'>xarray.Dataset</div></div><ul class='xr-sections'><li class='xr-section-item'><input id='section-f7d2edcd-9e9f-4a28-b4f5-b119287940dd' class='xr-section-summary-in' type='checkbox' disabled ><label for='section-f7d2edcd-9e9f-4a28-b4f5-b119287940dd' class='xr-section-summary'  title='Expand/collapse section'>Dimensions:</label><div class='xr-section-inline-details'><ul class='xr-dim-list'><li><span class='xr-has-index'>lat</span>: 61</li><li><span class='xr-has-index'>lon</span>: 52</li></ul></div><div class='xr-section-details'></div></li><li class='xr-section-item'><input id='section-43d1727a-9510-4fd7-826c-5a24a28a6742' class='xr-section-summary-in' type='checkbox'  checked><label for='section-43d1727a-9510-4fd7-826c-5a24a28a6742' class='xr-section-summary' >Coordinates: <span>(2)</span></label><div class='xr-section-inline-details'></div><div class='xr-section-details'><ul class='xr-var-list'><li class='xr-var-item'><div class='xr-var-name'><span class='xr-has-index'>lon</span></div><div class='xr-var-dims'>(lon)</div><div class='xr-var-dtype'>float64</div><div class='xr-var-preview xr-preview'>-110.9 -110.6 ... -95.31 -95.0</div><input id='attrs-9e3018cc-5d42-4062-bcfc-c785ba4816c0' class='xr-var-attrs-in' type='checkbox' ><label for='attrs-9e3018cc-5d42-4062-bcfc-c785ba4816c0' title='Show/Hide attributes'><svg class='icon xr-icon-file-text2'><use xlink:href='#icon-file-text2'></use></svg></label><input id='data-d51cc0f4-62d4-4637-b980-9c35f379cedd' class='xr-var-data-in' type='checkbox'><label for='data-d51cc0f4-62d4-4637-b980-9c35f379cedd' title='Show/Hide data repr'><svg class='icon xr-icon-database'><use xlink:href='#icon-database'></use></svg></label><div class='xr-var-attrs'><dl class='xr-attrs'><dt><span>units :</span></dt><dd>degrees_east</dd><dt><span>long_name :</span></dt><dd>Longitude</dd></dl></div><div class='xr-var-data'><pre>array([-110.9375, -110.625 , -110.3125, -110.    , -109.6875, -109.375 ,\n",
       "       -109.0625, -108.75  , -108.4375, -108.125 , -107.8125, -107.5   ,\n",
       "       -107.1875, -106.875 , -106.5625, -106.25  , -105.9375, -105.625 ,\n",
       "       -105.3125, -105.    , -104.6875, -104.375 , -104.0625, -103.75  ,\n",
       "       -103.4375, -103.125 , -102.8125, -102.5   , -102.1875, -101.875 ,\n",
       "       -101.5625, -101.25  , -100.9375, -100.625 , -100.3125, -100.    ,\n",
       "        -99.6875,  -99.375 ,  -99.0625,  -98.75  ,  -98.4375,  -98.125 ,\n",
       "        -97.8125,  -97.5   ,  -97.1875,  -96.875 ,  -96.5625,  -96.25  ,\n",
       "        -95.9375,  -95.625 ,  -95.3125,  -95.    ])</pre></div></li><li class='xr-var-item'><div class='xr-var-name'><span class='xr-has-index'>lat</span></div><div class='xr-var-dims'>(lat)</div><div class='xr-var-dtype'>float64</div><div class='xr-var-preview xr-preview'>24.0 24.25 24.5 ... 38.5 38.75 39.0</div><input id='attrs-d9e84027-5c89-4818-ae85-8947ef63275f' class='xr-var-attrs-in' type='checkbox' ><label for='attrs-d9e84027-5c89-4818-ae85-8947ef63275f' title='Show/Hide attributes'><svg class='icon xr-icon-file-text2'><use xlink:href='#icon-file-text2'></use></svg></label><input id='data-84ae5d78-0c55-4c59-9b40-beee7940d505' class='xr-var-data-in' type='checkbox'><label for='data-84ae5d78-0c55-4c59-9b40-beee7940d505' title='Show/Hide data repr'><svg class='icon xr-icon-database'><use xlink:href='#icon-database'></use></svg></label><div class='xr-var-attrs'><dl class='xr-attrs'><dt><span>units :</span></dt><dd>degrees_north</dd><dt><span>long_name :</span></dt><dd>Latitude</dd></dl></div><div class='xr-var-data'><pre>array([24.  , 24.25, 24.5 , 24.75, 25.  , 25.25, 25.5 , 25.75, 26.  , 26.25,\n",
       "       26.5 , 26.75, 27.  , 27.25, 27.5 , 27.75, 28.  , 28.25, 28.5 , 28.75,\n",
       "       29.  , 29.25, 29.5 , 29.75, 30.  , 30.25, 30.5 , 30.75, 31.  , 31.25,\n",
       "       31.5 , 31.75, 32.  , 32.25, 32.5 , 32.75, 33.  , 33.25, 33.5 , 33.75,\n",
       "       34.  , 34.25, 34.5 , 34.75, 35.  , 35.25, 35.5 , 35.75, 36.  , 36.25,\n",
       "       36.5 , 36.75, 37.  , 37.25, 37.5 , 37.75, 38.  , 38.25, 38.5 , 38.75,\n",
       "       39.  ])</pre></div></li></ul></div></li><li class='xr-section-item'><input id='section-6082e638-b9b7-4896-8cc6-517e87837e1e' class='xr-section-summary-in' type='checkbox'  checked><label for='section-6082e638-b9b7-4896-8cc6-517e87837e1e' class='xr-section-summary' >Data variables: <span>(1)</span></label><div class='xr-section-inline-details'></div><div class='xr-section-details'><ul class='xr-var-list'><li class='xr-var-item'><div class='xr-var-name'><span>StateVector</span></div><div class='xr-var-dims'>(lat, lon)</div><div class='xr-var-dtype'>float64</div><div class='xr-var-preview xr-preview'>204.0 204.0 204.0 ... 200.0 200.0</div><input id='attrs-9376e096-988f-423a-8916-e8f5fb8f671d' class='xr-var-attrs-in' type='checkbox' ><label for='attrs-9376e096-988f-423a-8916-e8f5fb8f671d' title='Show/Hide attributes'><svg class='icon xr-icon-file-text2'><use xlink:href='#icon-file-text2'></use></svg></label><input id='data-9ec5bb68-664d-4fd2-9c81-a803d1be9c0e' class='xr-var-data-in' type='checkbox'><label for='data-9ec5bb68-664d-4fd2-9c81-a803d1be9c0e' title='Show/Hide data repr'><svg class='icon xr-icon-database'><use xlink:href='#icon-database'></use></svg></label><div class='xr-var-attrs'><dl class='xr-attrs'><dt><span>units :</span></dt><dd>none</dd><dt><span>missing_value :</span></dt><dd>-9999</dd><dt><span>_FillValue :</span></dt><dd>-9999</dd></dl></div><div class='xr-var-data'><pre>array([[  204.,   204.,   204., ..., -9999., -9999., -9999.],\n",
       "       [  204.,   204.,   204., ..., -9999., -9999., -9999.],\n",
       "       [  204.,   204., -9999., ..., -9999., -9999., -9999.],\n",
       "       ...,\n",
       "       [  203.,   203.,   203., ...,   200.,   200.,   200.],\n",
       "       [  203.,   203.,   203., ...,   200.,   200.,   200.],\n",
       "       [  203.,   203.,   203., ...,   200.,   200.,   200.]])</pre></div></li></ul></div></li><li class='xr-section-item'><input id='section-92f732ff-bc1c-4019-b9b6-28423e89df65' class='xr-section-summary-in' type='checkbox' disabled ><label for='section-92f732ff-bc1c-4019-b9b6-28423e89df65' class='xr-section-summary'  title='Expand/collapse section'>Attributes: <span>(0)</span></label><div class='xr-section-inline-details'></div><div class='xr-section-details'><dl class='xr-attrs'></dl></div></li></ul></div></div>"
      ],
      "text/plain": [
       "<xarray.Dataset>\n",
       "Dimensions:      (lat: 61, lon: 52)\n",
       "Coordinates:\n",
       "  * lon          (lon) float64 -110.9 -110.6 -110.3 ... -95.62 -95.31 -95.0\n",
       "  * lat          (lat) float64 24.0 24.25 24.5 24.75 ... 38.25 38.5 38.75 39.0\n",
       "Data variables:\n",
       "    StateVector  (lat, lon) float64 204.0 204.0 204.0 ... 200.0 200.0 200.0"
      ]
     },
     "execution_count": 14,
     "metadata": {},
     "output_type": "execute_result"
    }
   ],
   "source": [
    "# Create dataset\n",
    "ds_state_vector = xr.Dataset(\n",
    "                {\n",
    "                    \"StateVector\": ([\"lat\", \"lon\"], state_vector),\n",
    "                },\n",
    "                coords={\n",
    "                    \"lon\": (\"lon\", new_lon_grid),\n",
    "                    \"lat\": (\"lat\", new_lat_grid),\n",
    "                },\n",
    "                \n",
    "                )\n",
    "\n",
    "# Add attribute metadata\n",
    "ds_state_vector.lat.attrs['units'] = 'degrees_north'\n",
    "ds_state_vector.lat.attrs['long_name'] = 'Latitude'\n",
    "ds_state_vector.lon.attrs['units'] = 'degrees_east'\n",
    "ds_state_vector.lon.attrs['long_name'] = 'Longitude'\n",
    "ds_state_vector.StateVector.attrs['units'] = 'none'\n",
    "ds_state_vector.StateVector.attrs['missing_value'] = -9999\n",
    "ds_state_vector.StateVector.attrs['_FillValue'] = -9999\n",
    "ds_state_vector"
   ]
  },
  {
   "cell_type": "code",
   "execution_count": 15,
   "metadata": {},
   "outputs": [
    {
     "name": "stdout",
     "output_type": "stream",
     "text": [
      "State vector has 207 emission elements\n"
     ]
    }
   ],
   "source": [
    "# Count elements\n",
    "num_elements = int(state_vector.max().values)\n",
    "print('State vector has',num_elements,'emission elements')"
   ]
  },
  {
   "cell_type": "code",
   "execution_count": 16,
   "metadata": {},
   "outputs": [],
   "source": [
    "# Save\n",
    "save = False # Switch to True if you wish to save the state vector file\n",
    "\n",
    "if save:\n",
    "    save_pth = f'/home/ubuntu/imi_output_dir/{config[\"RunName\"]}/StateVector.nc'\n",
    "    ds_state_vector.to_netcdf(save_pth)"
   ]
  },
  {
   "cell_type": "markdown",
   "metadata": {},
   "source": [
    "----"
   ]
  }
 ],
 "metadata": {
  "kernelspec": {
   "display_name": "Python 3",
   "language": "python",
   "name": "python3"
  },
  "language_info": {
   "codemirror_mode": {
    "name": "ipython",
    "version": 3
   },
   "file_extension": ".py",
   "mimetype": "text/x-python",
   "name": "python",
   "nbconvert_exporter": "python",
   "pygments_lexer": "ipython3",
   "version": "3.6.10"
  }
 },
 "nbformat": 4,
 "nbformat_minor": 4
}
